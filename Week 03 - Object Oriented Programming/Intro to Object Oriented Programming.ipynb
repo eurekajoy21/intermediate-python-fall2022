{
 "cells": [
  {
   "cell_type": "markdown",
   "metadata": {},
   "source": [
    "# Introduction to Object Oriented Programming(OOP) in Python\n",
    "Object-oriented programming (OOP) is a programming paradigm based on the concept of \"objects\", which can contain data and code. Data in the form of fields (often known as attributes or properties), and code, in the form of procedures (often known as methods).\n",
    "\n",
    "One way to think about objects is pieces of a whole system. A desktop computer is a good example.\n",
    "\n",
    "A desktop computer's components include a box, monitor, keyboard and a mouse. Each component has properties like: manufacturer name, manufactured date, use of different purposes and colors, and also different responsibilities like: processing data, displaying things, pointing at things, and inserting text. \n",
    "\n",
    "**Example** of showing desktop computer as a whole vs each components(**objects**) and its detailed information(**properties**): <br>\n",
    "<img style=\"float:left;\" src=\"images/pc_components.png\"  width=\"600\" height=\"600\"/> \n",
    "<img style=\"float:left;\" src=\"images/pc_individual.png\" width=\"600\" height=\"600\" /> "
   ]
  },
  {
   "cell_type": "markdown",
   "metadata": {},
   "source": [
    "As you can see example above: The desktop computer has components(**objects**) that each has manufacturer and purpose information(**properties**). Object Oriented Programming is same as desktop computer in a way that each computer components connect to each other with their respective properties. Objects to objects and properties to properties can connect to each other in a similar way. "
   ]
  },
  {
   "cell_type": "markdown",
   "metadata": {},
   "source": [
    "Another example of an **object** is a dog. A dog can have its name, age, color, sounds, and breed. The dog object has properties such as ears, mouth, height, weight, and color can define its breed."
   ]
  },
  {
   "cell_type": "markdown",
   "metadata": {},
   "source": [
    "<img style=\"float:left;\" src=\"images/dog_breeds.png\" width=\"600\" height=\"600\" /> "
   ]
  },
  {
   "cell_type": "markdown",
   "metadata": {},
   "source": [
    "## Classes\n",
    "A user-defined prototype for an object that defines a set of attributes that characterize any object of the class. The attributes are data members (class variables and instance variables) and methods, accessed via dot notation.\n",
    "\n",
    "In simple words, a class is an object that holds all properties of its objects in one place. And if you want access to one of the properites in an object, you have to call the class first then access to property."
   ]
  },
  {
   "cell_type": "markdown",
   "metadata": {},
   "source": [
    "### Classes always start with the name: the **class** and everything indented below the class will be part of it.\n",
    "\n",
    "Example of a Dog class:"
   ]
  },
  {
   "cell_type": "code",
   "execution_count": 1,
   "metadata": {},
   "outputs": [],
   "source": [
    "class Dog:\n",
    "    pass"
   ]
  },
  {
   "cell_type": "markdown",
   "metadata": {},
   "source": [
    "The class has a one statement **pass** which allows us to run the code without any error just for the example. \n"
   ]
  },
  {
   "cell_type": "markdown",
   "metadata": {},
   "source": [
    "### Now let's add some properties to the Dog class. We can use name, age, breed, coat color and a heigth as properties. \n",
    "\n",
    "Example of a Dog class with a name and age properties:"
   ]
  },
  {
   "cell_type": "code",
   "execution_count": 2,
   "metadata": {},
   "outputs": [],
   "source": [
    "class Dog:\n",
    "    def __init__(self, name, age):\n",
    "        self.name = name\n",
    "        self.age = age"
   ]
  },
  {
   "cell_type": "markdown",
   "metadata": {},
   "source": [
    "Everytime a new object(class) is created, \\__init\\__() sets the initial state of the object(class) by assigning the properties.<br>\n",
    "In the \\__init__\\() method there are two statements in the self variable:\n",
    "1. self.name = name creates an attribute from the name parameter\n",
    "2. self.age = age creates an attribute from the age parameter\n",
    "\n",
    "Attributes in the \\__init\\__() are called **instance attributes**. \n",
    "\n",
    "Inside class but outside an \\__init\\__ method attributes are called **class attributes**. We can declare an attribute called breeds in class."
   ]
  },
  {
   "cell_type": "code",
   "execution_count": 3,
   "metadata": {},
   "outputs": [],
   "source": [
    "class Dog:\n",
    "    #Class attribute\n",
    "    breeds = \"bulldog\"\n",
    "    def __init__(self, name, age):\n",
    "        #instance attributes\n",
    "        self.name = name\n",
    "        self.age = age"
   ]
  },
  {
   "cell_type": "markdown",
   "metadata": {},
   "source": [
    "### Creating a new object from a class is known as **instantiating** an object.\n",
    "Instantiate a Dog object:"
   ]
  },
  {
   "cell_type": "code",
   "execution_count": 4,
   "metadata": {},
   "outputs": [],
   "source": [
    "class Dog():\n",
    "    pass"
   ]
  },
  {
   "cell_type": "code",
   "execution_count": 5,
   "metadata": {},
   "outputs": [
    {
     "data": {
      "text/plain": [
       "<__main__.Dog at 0x7ff64037fbb0>"
      ]
     },
     "execution_count": 5,
     "metadata": {},
     "output_type": "execute_result"
    }
   ],
   "source": [
    "Dog()"
   ]
  },
  {
   "cell_type": "markdown",
   "metadata": {},
   "source": [
    "The output show the the computer's memory address of the object.\n",
    "\n",
    "Instantiate a Dog object one more time:"
   ]
  },
  {
   "cell_type": "code",
   "execution_count": 6,
   "metadata": {},
   "outputs": [
    {
     "data": {
      "text/plain": [
       "<__main__.Dog at 0x7ff64037feb0>"
      ]
     },
     "execution_count": 6,
     "metadata": {},
     "output_type": "execute_result"
    }
   ],
   "source": [
    "Dog()"
   ]
  },
  {
   "cell_type": "markdown",
   "metadata": {},
   "source": [
    "The instance memory address is different because it is created as a completely unique and different from the previous Dog object.\n",
    "\n",
    "### Let's instantiate a Dog class with its attributes"
   ]
  },
  {
   "cell_type": "code",
   "execution_count": 7,
   "metadata": {},
   "outputs": [],
   "source": [
    "class Dog:\n",
    "    #Class attribute\n",
    "    breeds = \"bulldog\"\n",
    "    def __init__(self, name, age):\n",
    "        #instance attributes\n",
    "        self.name = name\n",
    "        self.age = age"
   ]
  },
  {
   "cell_type": "code",
   "execution_count": 8,
   "metadata": {},
   "outputs": [
    {
     "ename": "TypeError",
     "evalue": "__init__() missing 2 required positional arguments: 'name' and 'age'",
     "output_type": "error",
     "traceback": [
      "\u001b[0;31m---------------------------------------------------------------------------\u001b[0m",
      "\u001b[0;31mTypeError\u001b[0m                                 Traceback (most recent call last)",
      "\u001b[0;32m<ipython-input-8-2dced99f65a6>\u001b[0m in \u001b[0;36m<module>\u001b[0;34m\u001b[0m\n\u001b[0;32m----> 1\u001b[0;31m \u001b[0mDog\u001b[0m\u001b[0;34m(\u001b[0m\u001b[0;34m)\u001b[0m\u001b[0;34m\u001b[0m\u001b[0;34m\u001b[0m\u001b[0m\n\u001b[0m",
      "\u001b[0;31mTypeError\u001b[0m: __init__() missing 2 required positional arguments: 'name' and 'age'"
     ]
    }
   ],
   "source": [
    "Dog()"
   ]
  },
  {
   "cell_type": "code",
   "execution_count": 9,
   "metadata": {},
   "outputs": [
    {
     "data": {
      "text/plain": [
       "<__main__.Dog at 0x7ff64037f6d0>"
      ]
     },
     "execution_count": 9,
     "metadata": {},
     "output_type": "execute_result"
    }
   ],
   "source": [
    "Dog(\"george\", 1)"
   ]
  },
  {
   "cell_type": "markdown",
   "metadata": {},
   "source": [
    "The reason why it raises an error is because it needs arguments to work. Pass the arguments to the class parameters(name, age) to get it working:"
   ]
  },
  {
   "cell_type": "code",
   "execution_count": 10,
   "metadata": {},
   "outputs": [],
   "source": [
    "jaki = Dog(\"jaki\", 6)\n",
    "rosie = Dog(\"rosie\", 7)"
   ]
  },
  {
   "cell_type": "markdown",
   "metadata": {},
   "source": [
    "You only need to pass 2 parameters into the Dog class because Python basically ignores the **self** parameter. After creating Dog instances, you access their instance attributes and class attributes using **dot notation**:"
   ]
  },
  {
   "cell_type": "code",
   "execution_count": 11,
   "metadata": {},
   "outputs": [
    {
     "data": {
      "text/plain": [
       "'jaki'"
      ]
     },
     "execution_count": 11,
     "metadata": {},
     "output_type": "execute_result"
    }
   ],
   "source": [
    "jaki.name"
   ]
  },
  {
   "cell_type": "code",
   "execution_count": 12,
   "metadata": {},
   "outputs": [
    {
     "name": "stdout",
     "output_type": "stream",
     "text": [
      "jaki\n",
      "6\n",
      "bulldog\n"
     ]
    }
   ],
   "source": [
    "print(jaki.name)\n",
    "print(jaki.age)\n",
    "print(jaki.breeds)"
   ]
  },
  {
   "cell_type": "code",
   "execution_count": 14,
   "metadata": {},
   "outputs": [
    {
     "name": "stdout",
     "output_type": "stream",
     "text": [
      "rosie\n",
      "7\n",
      "bulldog\n"
     ]
    }
   ],
   "source": [
    "print(rosie.name)\n",
    "print(rosie.age)\n",
    "print(rosie.breeds)"
   ]
  },
  {
   "cell_type": "markdown",
   "metadata": {},
   "source": [
    "### Instance Methods\n",
    "Instance methods are functions inside a class and can only be accessed from the instance of that class. <br>\n",
    "Class below has 2 instance methods:\n",
    "1. **info()** returns a string shows the name and age of a dog\n",
    "2. **talk()** returns a string name and the sound it makes"
   ]
  },
  {
   "cell_type": "code",
   "execution_count": 15,
   "metadata": {},
   "outputs": [],
   "source": [
    "class Dog:\n",
    "    #Class attribute\n",
    "    breeds = \"bulldog\"\n",
    "    def __init__(self, name, age):\n",
    "        #Instance attributes\n",
    "        self.name = name\n",
    "        self.age = age\n",
    "    # Instance method\n",
    "    def info(self):\n",
    "        return f\"{self.name} is {self.age} years old\"\n",
    "\n",
    "    # Another instance method\n",
    "    def talk(self, sound):\n",
    "        return f\"{self.name} says {sound}\""
   ]
  },
  {
   "cell_type": "code",
   "execution_count": 16,
   "metadata": {},
   "outputs": [],
   "source": [
    "jaki = Dog('Jaki', 6)"
   ]
  },
  {
   "cell_type": "code",
   "execution_count": 18,
   "metadata": {},
   "outputs": [
    {
     "data": {
      "text/plain": [
       "'Jaki is 6 years old'"
      ]
     },
     "execution_count": 18,
     "metadata": {},
     "output_type": "execute_result"
    }
   ],
   "source": [
    "jaki.info()"
   ]
  },
  {
   "cell_type": "code",
   "execution_count": 19,
   "metadata": {},
   "outputs": [
    {
     "data": {
      "text/plain": [
       "'Jaki says woof woof'"
      ]
     },
     "execution_count": 19,
     "metadata": {},
     "output_type": "execute_result"
    }
   ],
   "source": [
    "jaki.talk(\"woof woof\")"
   ]
  },
  {
   "cell_type": "code",
   "execution_count": 20,
   "metadata": {},
   "outputs": [
    {
     "name": "stdout",
     "output_type": "stream",
     "text": [
      "Jaki is 6 years old\n",
      "Jaki says hav hav hav\n",
      "Jaki says Woof uof of\n"
     ]
    }
   ],
   "source": [
    "jaki = Dog('Jaki', 6)\n",
    "print(jaki.info())\n",
    "print(jaki.talk(\"hav hav hav\"))\n",
    "print(jaki.talk(\"Woof uof of\"))"
   ]
  },
  {
   "cell_type": "markdown",
   "metadata": {},
   "source": [
    "**Example of class in a PC keyboard with Dorj**\n",
    "* Let's create an object called Keyboard and insert attributes such as name, manufacturer and a color. \n",
    "* Let's assume a person named Dorj wants to store some keyboards with its attributes.\n",
    "* But then Dorj forgot the attributes of the third keyboard!"
   ]
  },
  {
   "cell_type": "code",
   "execution_count": 22,
   "metadata": {},
   "outputs": [],
   "source": [
    "# Step 1 creating class Keyboard and setting its attributes\n",
    "class Keyboard:\n",
    "    #Step 2 start with the __init__ method and parameters\n",
    "    def __init__(self, name, manufacturer, color):\n",
    "        self.name = name\n",
    "        self.manufacturer = manufacturer\n",
    "        self.color = color"
   ]
  },
  {
   "cell_type": "markdown",
   "metadata": {},
   "source": [
    "#### Dorj stores 4 different keyboards with its attributes"
   ]
  },
  {
   "cell_type": "code",
   "execution_count": 23,
   "metadata": {},
   "outputs": [
    {
     "name": "stdout",
     "output_type": "stream",
     "text": [
      "K840\n",
      "logitech\n",
      "dark\n"
     ]
    }
   ],
   "source": [
    "keyboard1 = Keyboard('K840', 'logitech', 'dark')\n",
    "keyboard2 = Keyboard('KB216', 'dell', 'dark')\n",
    "keyboard3 = Keyboard('Magic', 'apple', 'white')\n",
    "keyboard4 = Keyboard('K70', 'corsair', 'dark')\n",
    "\n",
    "print(keyboard1.name)\n",
    "print(keyboard1.manufacturer)\n",
    "print(keyboard1.color)"
   ]
  },
  {
   "cell_type": "code",
   "execution_count": 24,
   "metadata": {},
   "outputs": [
    {
     "data": {
      "text/plain": [
       "'dark'"
      ]
     },
     "execution_count": 24,
     "metadata": {},
     "output_type": "execute_result"
    }
   ],
   "source": [
    "keyboard2.color"
   ]
  },
  {
   "cell_type": "markdown",
   "metadata": {},
   "source": [
    "#### Dorj forgot the attributes of the third keyboard and easily remembers by simply printing keyboard3's attributes"
   ]
  },
  {
   "cell_type": "code",
   "execution_count": 25,
   "metadata": {},
   "outputs": [
    {
     "name": "stdout",
     "output_type": "stream",
     "text": [
      "Magic\n",
      "apple\n",
      "white\n"
     ]
    }
   ],
   "source": [
    "print(keyboard3.name)\n",
    "print(keyboard3.manufacturer)\n",
    "print(keyboard3.color)"
   ]
  },
  {
   "cell_type": "markdown",
   "metadata": {},
   "source": [
    "#### The example below clearly indicates the reason why using classes is much easier when you are dealing with bigger and complex data\n",
    "\n",
    "In the example below, we can create a class to calculate statistics of peoples ages. By using the class functions in this way you have easy access to the classes constructor data, which means you can just call the class with the appropriate method to get the data you want."
   ]
  },
  {
   "cell_type": "code",
   "execution_count": 26,
   "metadata": {},
   "outputs": [],
   "source": [
    "import numpy as np\n",
    "\n",
    "class Stats:\n",
    "    def __init__(self, data_given):\n",
    "        self.data_given = data_given\n",
    "        \n",
    "    def max(self):\n",
    "        max_value = np.max(self.data_given)\n",
    "        return max_value\n",
    "    \n",
    "    def min(self):\n",
    "        min_value = np.min(self.data_given)\n",
    "        return min_value\n",
    "    \n",
    "    def median(self):\n",
    "        median_value = np.median(self.data_given)\n",
    "        return median_value"
   ]
  },
  {
   "cell_type": "code",
   "execution_count": 27,
   "metadata": {},
   "outputs": [],
   "source": [
    "age_women = [25, 24, 22, 20, 21, 23, 23, 26, 28, 29, 20, 20]"
   ]
  },
  {
   "cell_type": "code",
   "execution_count": 28,
   "metadata": {},
   "outputs": [],
   "source": [
    "fed_women = Stats(age_women)"
   ]
  },
  {
   "cell_type": "code",
   "execution_count": 36,
   "metadata": {},
   "outputs": [
    {
     "name": "stdout",
     "output_type": "stream",
     "text": [
      "----------Women age stat----------\n",
      "The given data's maximum value is: 29\n",
      "The given data's minimum value is: 20\n",
      "The given data's median value is: 23.0\n"
     ]
    }
   ],
   "source": [
    "print(\"----------Women age stat----------\")\n",
    "print(\"The given data's maximum value is:\", fed_women.max())\n",
    "print(\"The given data's minimum value is:\", fed_women.min())\n",
    "print(\"The given data's median value is:\", fed_women.median())\n"
   ]
  },
  {
   "cell_type": "code",
   "execution_count": 34,
   "metadata": {},
   "outputs": [],
   "source": [
    "age_men = [39, 35, 35, 32, 33, 33, 35, 31, 32, 39, 38, 34, 36]"
   ]
  },
  {
   "cell_type": "code",
   "execution_count": 35,
   "metadata": {},
   "outputs": [],
   "source": [
    "fed_men = Stats(age_men)"
   ]
  },
  {
   "cell_type": "code",
   "execution_count": 37,
   "metadata": {},
   "outputs": [
    {
     "name": "stdout",
     "output_type": "stream",
     "text": [
      "\n",
      "----------Men age stat----------\n",
      "The given data's maximum value is: 39\n",
      "The given data's minimum value is: 31\n",
      "The given data's median value is: 35.0\n"
     ]
    }
   ],
   "source": [
    "print(\"\\n----------Men age stat----------\")\n",
    "print(\"The given data's maximum value is:\", fed_men.max())\n",
    "print(\"The given data's minimum value is:\", fed_men.min())\n",
    "print(\"The given data's median value is:\", fed_men.median())"
   ]
  },
  {
   "cell_type": "markdown",
   "metadata": {},
   "source": [
    "### Inherit from other **Classes**\n",
    "Inheritance is the process by which one class takes the attributes and methods of other classes. \n",
    "> Don't repeat yourself (DRY, or sometimes do not repeat yourself) is a principle of software development aimed at reducing repetition of software patterns. \n",
    "\n",
    "* It is a method that allows a new class that has same methods and attributes as original class and adding extra functionality into a new class by not changing the original class. \n",
    "* It also saves a good amount of time by not repeating the same code into different places.\n",
    "\n",
    "\n",
    "* **Child class**: Classes that inherits from other classes.\n",
    "* **Parent class**: Classes that child classes are derived from.\n",
    "\n",
    "<img style=\"float:left; padding-right:2%;\" src=\"images/parent classes.png\" width=\"300\" height=\"300\" /> "
   ]
  },
  {
   "cell_type": "markdown",
   "metadata": {},
   "source": [
    "Child classes can **override** or **extend** attributes of a parent class."
   ]
  },
  {
   "cell_type": "markdown",
   "metadata": {},
   "source": [
    "#### In a real world example: One can inherit his father's height and sometimes gets taller than the parents and **extends** it. If your car's color is red and you painted pink, then you have **overridden** the hair's color attributes."
   ]
  },
  {
   "cell_type": "markdown",
   "metadata": {},
   "source": [
    "#### Basically inheritance is using another class's attributes and methods. \n",
    "**Example 1**: below shows how inheritance works.\n",
    "* chicken is the parent class and if we just pass chicken_child class, it will give the same result as the full chicken class"
   ]
  },
  {
   "cell_type": "code",
   "execution_count": 49,
   "metadata": {},
   "outputs": [],
   "source": [
    "class Chicken:\n",
    "    def __init__(self, age, expected_eggs):\n",
    "        self.age = age\n",
    "        self.expected_eggs = expected_eggs"
   ]
  },
  {
   "cell_type": "code",
   "execution_count": 50,
   "metadata": {},
   "outputs": [],
   "source": [
    "class ChickenChild(Chicken):\n",
    "    pass"
   ]
  },
  {
   "cell_type": "code",
   "execution_count": 51,
   "metadata": {},
   "outputs": [],
   "source": [
    "chicken =  ChickenChild(14, 2)"
   ]
  },
  {
   "cell_type": "code",
   "execution_count": 52,
   "metadata": {},
   "outputs": [
    {
     "name": "stdout",
     "output_type": "stream",
     "text": [
      "2\n",
      "14\n"
     ]
    }
   ],
   "source": [
    "print(chicken.expected_eggs)\n",
    "print(chicken.age)"
   ]
  },
  {
   "cell_type": "markdown",
   "metadata": {},
   "source": [
    "**Example 2**: Let's assume our company was raising salaries about 10 percent annually and our CEO (who is a generous man) decided to increase it into 20 percent this year. Now we need to find out how the previous computation was working and re-create it. But we have a choice we can either start from scratch, or we can take the shorter path by using **class inheritance**. We will randomly select two employees from the company:\n",
    "\n",
    "| First name \t| Last name \t| Current salary(MNT) \t|\n",
    "|-\t|-\t|-\t|\n",
    "| Dorj \t| Misha \t| 800,000 \t|\n",
    "| Myagmar  \t| Bold \t| 760,000 \t|"
   ]
  },
  {
   "cell_type": "markdown",
   "metadata": {},
   "source": [
    "#### Let's look at the NormalIncrease class first. \n",
    "It takes the first name, last name and current salary as its arguments.\n",
    "\n",
    "The methods in this class are:\n",
    "1. **\\__init\\__()** that sets the current state of the class\n",
    "2. **fullname()** that makes the fullname of using firstname and lastname arguments\n",
    "3. **apply_raise()** method which applies salary raise to the given employee by raise_amt = 1.1(10%)"
   ]
  },
  {
   "cell_type": "code",
   "execution_count": 53,
   "metadata": {},
   "outputs": [],
   "source": [
    "class NormalIncrease:\n",
    "    raise_amt = 1.1\n",
    "    def __init__(self, fname, lname, salary):\n",
    "        self.fname = fname\n",
    "        self.lname = lname\n",
    "        self.salary = salary\n",
    "        \n",
    "    def fullname(self):\n",
    "        return '{} {}'.format(self.fname, self.lname)\n",
    "    \n",
    "    def apply_raise(self):\n",
    "        self.salary = int(self.salary * self.raise_amt)"
   ]
  },
  {
   "cell_type": "markdown",
   "metadata": {},
   "source": [
    "#### Let's instantiate the normal_increase class and look at the salaries"
   ]
  },
  {
   "cell_type": "code",
   "execution_count": 54,
   "metadata": {},
   "outputs": [],
   "source": [
    "dorj = NormalIncrease(\"Dorj\",\"Misha\", 800000)\n",
    "myagmar = NormalIncrease(\"Myagmar\",\"Bold\", 760000)"
   ]
  },
  {
   "cell_type": "code",
   "execution_count": 55,
   "metadata": {},
   "outputs": [
    {
     "data": {
      "text/plain": [
       "'Dorj Misha'"
      ]
     },
     "execution_count": 55,
     "metadata": {},
     "output_type": "execute_result"
    }
   ],
   "source": [
    "dorj.fullname()"
   ]
  },
  {
   "cell_type": "code",
   "execution_count": 57,
   "metadata": {},
   "outputs": [
    {
     "data": {
      "text/plain": [
       "800000"
      ]
     },
     "execution_count": 57,
     "metadata": {},
     "output_type": "execute_result"
    }
   ],
   "source": [
    "dorj.salary"
   ]
  },
  {
   "cell_type": "code",
   "execution_count": 58,
   "metadata": {},
   "outputs": [
    {
     "name": "stdout",
     "output_type": "stream",
     "text": [
      "Dorj Misha's current salary: 800000\n",
      "Myagmar Bold's current salary: 760000\n"
     ]
    }
   ],
   "source": [
    "print(f\"{dorj.fullname()}'s current salary: {dorj.salary}\")\n",
    "print(f\"{myagmar.fullname()}'s current salary: {myagmar.salary}\")"
   ]
  },
  {
   "cell_type": "markdown",
   "metadata": {},
   "source": [
    "#### Let's look at the normal 10 percent increase in salary\n",
    "1. We will call **apply_raise()** method to increase both employees' salary\n",
    "2. We will see the salaries after raise"
   ]
  },
  {
   "cell_type": "code",
   "execution_count": 59,
   "metadata": {},
   "outputs": [],
   "source": [
    "dorj.apply_raise()\n",
    "myagmar.apply_raise()"
   ]
  },
  {
   "cell_type": "code",
   "execution_count": 60,
   "metadata": {},
   "outputs": [
    {
     "name": "stdout",
     "output_type": "stream",
     "text": [
      "Dorj Misha's salary after pay raise: 880000\n",
      "Myagmar Bold's salary after pay raise: 836000\n"
     ]
    }
   ],
   "source": [
    "print(f\"{dorj.fullname()}'s salary after pay raise: {dorj.salary}\")\n",
    "print(f\"{myagmar.fullname()}'s salary after pay raise: {myagmar.salary}\")"
   ]
  },
  {
   "cell_type": "markdown",
   "metadata": {},
   "source": [
    "As we expected, both employees' salary have been increased by 10 percent. \n",
    "\n",
    "| First name \t| Last name \t| Current salary \t| 10% increase \t|\n",
    "|------------\t|-----------\t|----------------\t|--------------\t|\n",
    "| Dorj       \t| Misha     \t| 800,000         \t| 880,000    \t|\n",
    "| Myagmar    \t| Bold      \t| 760,000         \t| 836,000    \t|"
   ]
  },
  {
   "cell_type": "markdown",
   "metadata": {
    "tags": []
   },
   "source": [
    "#### Now we will deal with the CEO problem\n",
    "* We will create a child class that **overrides** the `NormalIncrease` class's attribute `raise_amt`\n",
    "* Instantiate the created class and see the CEO's salary effects"
   ]
  },
  {
   "cell_type": "code",
   "execution_count": 62,
   "metadata": {},
   "outputs": [],
   "source": [
    "class CeoIncrease(NormalIncrease):\n",
    "    raise_amt = 1.2"
   ]
  },
  {
   "cell_type": "code",
   "execution_count": 63,
   "metadata": {},
   "outputs": [],
   "source": [
    "dorj = CeoIncrease(\"Dorj\",\"Misha\", 800000)\n",
    "myagmar = CeoIncrease(\"Myagmar\",\"Bold\", 760000)"
   ]
  },
  {
   "cell_type": "markdown",
   "metadata": {},
   "source": [
    "We simply overrides the parent class's raise_amt attribute by making it **1.1**->**1.2**"
   ]
  },
  {
   "cell_type": "code",
   "execution_count": 65,
   "metadata": {},
   "outputs": [
    {
     "name": "stdout",
     "output_type": "stream",
     "text": [
      "Dorj Misha's salary before pay raise: 800000\n",
      "Dorj Misha's salary after pay raise: 960000\n"
     ]
    }
   ],
   "source": [
    "print(f\"{dorj.fullname()}'s salary before pay raise: {dorj.salary}\")\n",
    "dorj.apply_raise()\n",
    "print(f\"{dorj.fullname()}'s salary after pay raise: {dorj.salary}\")"
   ]
  },
  {
   "cell_type": "code",
   "execution_count": 66,
   "metadata": {},
   "outputs": [
    {
     "name": "stdout",
     "output_type": "stream",
     "text": [
      "Myagmar Bold's salary before pay raise: 760000\n",
      "Myagmar Bold's salary after pay raise: 912000\n"
     ]
    }
   ],
   "source": [
    "print(f\"{myagmar.fullname()}'s salary before pay raise: {myagmar.salary}\")\n",
    "myagmar.apply_raise()\n",
    "print(f\"{myagmar.fullname()}'s salary after pay raise: {myagmar.salary}\")"
   ]
  },
  {
   "cell_type": "markdown",
   "metadata": {},
   "source": [
    "As we expected, both employees' salary have been increased by 20 percent.  \n",
    "\n",
    "| First name \t| Last name \t| Current salary \t| 10% increase \t| 20% increase \t|\n",
    "|------------\t|-----------\t|----------------\t|--------------\t|--------------\t|\n",
    "| Dorj       \t| Misha     \t| 800000         \t|  880,000\t    | 960,000    \t|\n",
    "| Myagmar    \t| Bold      \t| 760000         \t|  836,000      | 912000    \t|"
   ]
  }
 ],
 "metadata": {
  "kernelspec": {
   "display_name": "Python 3 (ipykernel)",
   "language": "python",
   "name": "python3"
  },
  "language_info": {
   "codemirror_mode": {
    "name": "ipython",
    "version": 3
   },
   "file_extension": ".py",
   "mimetype": "text/x-python",
   "name": "python",
   "nbconvert_exporter": "python",
   "pygments_lexer": "ipython3",
   "version": "3.8.13"
  }
 },
 "nbformat": 4,
 "nbformat_minor": 4
}
