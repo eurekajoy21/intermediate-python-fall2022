{
 "cells": [
  {
   "cell_type": "markdown",
   "metadata": {
    "colab_type": "text",
    "id": "MjUsa_E50-wI"
   },
   "source": [
    "# Scrape Exchange Rate"
   ]
  },
  {
   "cell_type": "markdown",
   "metadata": {
    "colab_type": "text",
    "id": "iEEY2ua90-wJ"
   },
   "source": [
    "This notebook scrapes the daily USD-MNT exchange rate from the MongolBank website. "
   ]
  },
  {
   "cell_type": "code",
   "execution_count": 1,
   "metadata": {
    "colab": {},
    "colab_type": "code",
    "id": "38KkMfoq0-wK"
   },
   "outputs": [],
   "source": [
    "from bs4 import BeautifulSoup\n",
    "import requests\n",
    "import datetime\n",
    "import pandas as pd"
   ]
  },
  {
   "cell_type": "markdown",
   "metadata": {},
   "source": [
    "## Scraping just one USD value"
   ]
  },
  {
   "cell_type": "code",
   "execution_count": 2,
   "metadata": {},
   "outputs": [],
   "source": [
    "response = requests.get('https://www.mongolbank.mn/eng/dblistofficialdailyrate.aspx?vYear=2022&vMonth=10&vDay=2')"
   ]
  },
  {
   "cell_type": "code",
   "execution_count": 3,
   "metadata": {},
   "outputs": [],
   "source": [
    "soup = BeautifulSoup(response.content)"
   ]
  },
  {
   "cell_type": "code",
   "execution_count": 9,
   "metadata": {},
   "outputs": [],
   "source": [
    "usd = soup.find('span', {'id':'ContentPlaceHolder1_lblUSD'}).text"
   ]
  },
  {
   "cell_type": "code",
   "execution_count": 12,
   "metadata": {},
   "outputs": [],
   "source": [
    "usd = float(usd.replace(\",\",\"\"))"
   ]
  },
  {
   "cell_type": "markdown",
   "metadata": {},
   "source": [
    "## Scraping a bunch of them"
   ]
  },
  {
   "cell_type": "code",
   "execution_count": 36,
   "metadata": {
    "colab": {},
    "colab_type": "code",
    "id": "ZUeYybd90-wN"
   },
   "outputs": [],
   "source": [
    "start = datetime.datetime(2022,9,15)\n",
    "end = datetime.datetime(2022,10,2)\n",
    "delta = end - start"
   ]
  },
  {
   "cell_type": "code",
   "execution_count": 37,
   "metadata": {},
   "outputs": [
    {
     "data": {
      "text/plain": [
       "17"
      ]
     },
     "execution_count": 37,
     "metadata": {},
     "output_type": "execute_result"
    }
   ],
   "source": [
    "delta.days"
   ]
  },
  {
   "cell_type": "code",
   "execution_count": 38,
   "metadata": {
    "colab": {},
    "colab_type": "code",
    "id": "un7PgY080-wP"
   },
   "outputs": [],
   "source": [
    "days = []\n",
    "urls = []"
   ]
  },
  {
   "cell_type": "code",
   "execution_count": 39,
   "metadata": {
    "colab": {},
    "colab_type": "code",
    "id": "kFPWSMj80-wS"
   },
   "outputs": [],
   "source": [
    "for i in range(delta.days + 1):\n",
    "    days.append(start + datetime.timedelta(days=i))"
   ]
  },
  {
   "cell_type": "code",
   "execution_count": 40,
   "metadata": {},
   "outputs": [
    {
     "data": {
      "text/plain": [
       "[datetime.datetime(2022, 9, 15, 0, 0),\n",
       " datetime.datetime(2022, 9, 16, 0, 0),\n",
       " datetime.datetime(2022, 9, 17, 0, 0),\n",
       " datetime.datetime(2022, 9, 18, 0, 0),\n",
       " datetime.datetime(2022, 9, 19, 0, 0)]"
      ]
     },
     "execution_count": 40,
     "metadata": {},
     "output_type": "execute_result"
    }
   ],
   "source": [
    "days[:5]"
   ]
  },
  {
   "cell_type": "code",
   "execution_count": 41,
   "metadata": {
    "colab": {},
    "colab_type": "code",
    "id": "EIhjjxY10-wX"
   },
   "outputs": [],
   "source": [
    "for day in days:\n",
    "    urls.append(f'https://www.mongolbank.mn/eng/dblistofficialdailyrate.aspx?vYear={str(day.year)}&vMonth={str(day.month)}&vDay={str(day.day)}')"
   ]
  },
  {
   "cell_type": "code",
   "execution_count": 42,
   "metadata": {
    "colab": {},
    "colab_type": "code",
    "id": "4bUjE-Rz0-wZ"
   },
   "outputs": [],
   "source": [
    "scraping = pd.DataFrame(days, columns=['days'])\n",
    "scraping['urls'] = urls"
   ]
  },
  {
   "cell_type": "code",
   "execution_count": 43,
   "metadata": {
    "colab": {
     "base_uri": "https://localhost:8080/",
     "height": 195
    },
    "colab_type": "code",
    "executionInfo": {
     "elapsed": 1604,
     "status": "ok",
     "timestamp": 1586919638422,
     "user": {
      "displayName": "Robert Ritz",
      "photoUrl": "https://lh3.googleusercontent.com/a-/AOh14GigOpbASLGi02nNy3FkjCvro6LkFB8UiORVD1bB0pw=s64",
      "userId": "00501718579314655634"
     },
     "user_tz": -480
    },
    "id": "6VySyffP0-we",
    "outputId": "54fdf40e-80f1-460c-c551-a326448fcae6"
   },
   "outputs": [
    {
     "data": {
      "text/html": [
       "<div>\n",
       "<style scoped>\n",
       "    .dataframe tbody tr th:only-of-type {\n",
       "        vertical-align: middle;\n",
       "    }\n",
       "\n",
       "    .dataframe tbody tr th {\n",
       "        vertical-align: top;\n",
       "    }\n",
       "\n",
       "    .dataframe thead th {\n",
       "        text-align: right;\n",
       "    }\n",
       "</style>\n",
       "<table border=\"1\" class=\"dataframe\">\n",
       "  <thead>\n",
       "    <tr style=\"text-align: right;\">\n",
       "      <th></th>\n",
       "      <th>days</th>\n",
       "      <th>urls</th>\n",
       "    </tr>\n",
       "  </thead>\n",
       "  <tbody>\n",
       "    <tr>\n",
       "      <th>0</th>\n",
       "      <td>2022-09-15</td>\n",
       "      <td>https://www.mongolbank.mn/eng/dblistofficialda...</td>\n",
       "    </tr>\n",
       "    <tr>\n",
       "      <th>1</th>\n",
       "      <td>2022-09-16</td>\n",
       "      <td>https://www.mongolbank.mn/eng/dblistofficialda...</td>\n",
       "    </tr>\n",
       "    <tr>\n",
       "      <th>2</th>\n",
       "      <td>2022-09-17</td>\n",
       "      <td>https://www.mongolbank.mn/eng/dblistofficialda...</td>\n",
       "    </tr>\n",
       "    <tr>\n",
       "      <th>3</th>\n",
       "      <td>2022-09-18</td>\n",
       "      <td>https://www.mongolbank.mn/eng/dblistofficialda...</td>\n",
       "    </tr>\n",
       "    <tr>\n",
       "      <th>4</th>\n",
       "      <td>2022-09-19</td>\n",
       "      <td>https://www.mongolbank.mn/eng/dblistofficialda...</td>\n",
       "    </tr>\n",
       "  </tbody>\n",
       "</table>\n",
       "</div>"
      ],
      "text/plain": [
       "        days                                               urls\n",
       "0 2022-09-15  https://www.mongolbank.mn/eng/dblistofficialda...\n",
       "1 2022-09-16  https://www.mongolbank.mn/eng/dblistofficialda...\n",
       "2 2022-09-17  https://www.mongolbank.mn/eng/dblistofficialda...\n",
       "3 2022-09-18  https://www.mongolbank.mn/eng/dblistofficialda...\n",
       "4 2022-09-19  https://www.mongolbank.mn/eng/dblistofficialda..."
      ]
     },
     "execution_count": 43,
     "metadata": {},
     "output_type": "execute_result"
    }
   ],
   "source": [
    "scraping.head()"
   ]
  },
  {
   "cell_type": "code",
   "execution_count": 46,
   "metadata": {
    "colab": {},
    "colab_type": "code",
    "id": "QAM9Unce0-wh"
   },
   "outputs": [],
   "source": [
    "exchange_rate = []\n",
    "\n",
    "for index, row in scraping.iterrows():\n",
    "    try:\n",
    "        #fetch the page from the URL\n",
    "        page_response = requests.get(row['urls'], timeout=15)\n",
    "\n",
    "        #Initialize BeautifulSoup and parse page data\n",
    "        soup = BeautifulSoup(page_response.content)\n",
    "        \n",
    "        #find an store variables\n",
    "        usd = soup.find(id=\"ContentPlaceHolder1_lblUSD\").text\n",
    "        date = row['days'].strftime('%m/%d/%Y')\n",
    "        #append scraped data to list\n",
    "        exchange_rate.append({'Date': date, 'USD': usd})\n",
    "    except:\n",
    "        exchange_rate.append({'Date': date, 'USD': 'error'})"
   ]
  },
  {
   "cell_type": "code",
   "execution_count": 52,
   "metadata": {
    "colab": {
     "base_uri": "https://localhost:8080/",
     "height": 195
    },
    "colab_type": "code",
    "executionInfo": {
     "elapsed": 1629,
     "status": "ok",
     "timestamp": 1586930098460,
     "user": {
      "displayName": "Robert Ritz",
      "photoUrl": "https://lh3.googleusercontent.com/a-/AOh14GigOpbASLGi02nNy3FkjCvro6LkFB8UiORVD1bB0pw=s64",
      "userId": "00501718579314655634"
     },
     "user_tz": -480
    },
    "id": "W_I1qH370-wj",
    "outputId": "fbdf1093-e91f-4908-82e4-dd0358d5ac9e"
   },
   "outputs": [],
   "source": [
    "df = pd.DataFrame(exchange_rate)"
   ]
  },
  {
   "cell_type": "code",
   "execution_count": 55,
   "metadata": {},
   "outputs": [],
   "source": [
    "df['USD'] = df['USD'].str.replace(\",\",\"\").astype('float')"
   ]
  },
  {
   "cell_type": "code",
   "execution_count": 59,
   "metadata": {},
   "outputs": [],
   "source": [
    "df['Date'] = pd.to_datetime(df['Date'])"
   ]
  },
  {
   "cell_type": "code",
   "execution_count": 65,
   "metadata": {},
   "outputs": [
    {
     "data": {
      "text/plain": [
       "<AxesSubplot: xlabel='Date'>"
      ]
     },
     "execution_count": 65,
     "metadata": {},
     "output_type": "execute_result"
    },
    {
     "data": {
      "image/png": "[encoded data removed]",
      "text/plain": [
       "<Figure size 640x480 with 1 Axes>"
      ]
     },
     "metadata": {},
     "output_type": "display_data"
    }
   ],
   "source": [
    "df.plot(x='Date', y='USD')"
   ]
  },
  {
   "cell_type": "code",
   "execution_count": 67,
   "metadata": {
    "colab": {},
    "colab_type": "code",
    "id": "zWjBw-iX0-wm"
   },
   "outputs": [],
   "source": [
    "## Use this for exporting to local project folder when using a local runtime.\n",
    "df.to_csv('usd-mnt.csv', index=False)"
   ]
  },
  {
   "cell_type": "code",
   "execution_count": null,
   "metadata": {
    "colab": {},
    "colab_type": "code",
    "id": "3Opb0Tpabh2K"
   },
   "outputs": [],
   "source": []
  }
 ],
 "metadata": {
  "colab": {
   "collapsed_sections": [],
   "name": "Scrape USD-MNT.ipynb",
   "provenance": [],
   "toc_visible": true
  },
  "kernelspec": {
   "display_name": "Python 3 (ipykernel)",
   "language": "python",
   "name": "python3"
  },
  "language_info": {
   "codemirror_mode": {
    "name": "ipython",
    "version": 3
   },
   "file_extension": ".py",
   "mimetype": "text/x-python",
   "name": "python",
   "nbconvert_exporter": "python",
   "pygments_lexer": "ipython3",
   "version": "3.8.13"
  }
 },
 "nbformat": 4,
 "nbformat_minor": 4
}
