{
 "cells": [
  {
   "cell_type": "markdown",
   "metadata": {
    "colab_type": "text",
    "id": "MjUsa_E50-wI"
   },
   "source": [
    "# Scrape Exchange Rate"
   ]
  },
  {
   "cell_type": "markdown",
   "metadata": {
    "colab_type": "text",
    "id": "iEEY2ua90-wJ"
   },
   "source": [
    "This notebook scrapes the daily USD-MNT exchange rate from the MongolBank website. "
   ]
  },
  {
   "cell_type": "code",
   "execution_count": 1,
   "metadata": {
    "colab": {},
    "colab_type": "code",
    "id": "38KkMfoq0-wK"
   },
   "outputs": [],
   "source": [
    "from bs4 import BeautifulSoup\n",
    "import requests\n",
    "import datetime\n",
    "import pandas as pd"
   ]
  },
  {
   "cell_type": "code",
   "execution_count": 2,
   "metadata": {
    "colab": {},
    "colab_type": "code",
    "id": "ZUeYybd90-wN"
   },
   "outputs": [],
   "source": [
    "start = datetime.datetime(2000,1,1)\n",
    "end = datetime.datetime(2020,4,14)\n",
    "delta = end - start"
   ]
  },
  {
   "cell_type": "code",
   "execution_count": 3,
   "metadata": {
    "colab": {},
    "colab_type": "code",
    "id": "un7PgY080-wP"
   },
   "outputs": [],
   "source": [
    "days = []\n",
    "urls = []"
   ]
  },
  {
   "cell_type": "code",
   "execution_count": 4,
   "metadata": {
    "colab": {},
    "colab_type": "code",
    "id": "kFPWSMj80-wS"
   },
   "outputs": [],
   "source": [
    "for i in range(delta.days + 1):\n",
    "    days.append(start + datetime.timedelta(days=i))"
   ]
  },
  {
   "cell_type": "code",
   "execution_count": 5,
   "metadata": {
    "colab": {},
    "colab_type": "code",
    "id": "TCgyf2MV0-wU"
   },
   "outputs": [],
   "source": [
    "exchange_rate = pd.DataFrame(columns=['Date','USD'])"
   ]
  },
  {
   "cell_type": "code",
   "execution_count": 6,
   "metadata": {
    "colab": {},
    "colab_type": "code",
    "id": "EIhjjxY10-wX"
   },
   "outputs": [],
   "source": [
    "for day in days:\n",
    "    urls.append(f'https://www.mongolbank.mn/eng/dblistofficialdailyrate.aspx?vYear={str(day.year)}&vMonth={str(day.month)}&vDay={str(day.day)}')"
   ]
  },
  {
   "cell_type": "code",
   "execution_count": 7,
   "metadata": {
    "colab": {},
    "colab_type": "code",
    "id": "4bUjE-Rz0-wZ"
   },
   "outputs": [],
   "source": [
    "scraping = pd.DataFrame(days, columns=['days'])\n",
    "scraping['urls'] = urls"
   ]
  },
  {
   "cell_type": "code",
   "execution_count": 8,
   "metadata": {
    "colab": {
     "base_uri": "https://localhost:8080/",
     "height": 195
    },
    "colab_type": "code",
    "executionInfo": {
     "elapsed": 1604,
     "status": "ok",
     "timestamp": 1586919638422,
     "user": {
      "displayName": "Robert Ritz",
      "photoUrl": "https://lh3.googleusercontent.com/a-/AOh14GigOpbASLGi02nNy3FkjCvro6LkFB8UiORVD1bB0pw=s64",
      "userId": "00501718579314655634"
     },
     "user_tz": -480
    },
    "id": "6VySyffP0-we",
    "outputId": "54fdf40e-80f1-460c-c551-a326448fcae6"
   },
   "outputs": [
    {
     "data": {
      "text/html": [
       "<div>\n",
       "<style scoped>\n",
       "    .dataframe tbody tr th:only-of-type {\n",
       "        vertical-align: middle;\n",
       "    }\n",
       "\n",
       "    .dataframe tbody tr th {\n",
       "        vertical-align: top;\n",
       "    }\n",
       "\n",
       "    .dataframe thead th {\n",
       "        text-align: right;\n",
       "    }\n",
       "</style>\n",
       "<table border=\"1\" class=\"dataframe\">\n",
       "  <thead>\n",
       "    <tr style=\"text-align: right;\">\n",
       "      <th></th>\n",
       "      <th>days</th>\n",
       "      <th>urls</th>\n",
       "    </tr>\n",
       "  </thead>\n",
       "  <tbody>\n",
       "    <tr>\n",
       "      <th>0</th>\n",
       "      <td>2000-01-01</td>\n",
       "      <td>https://www.mongolbank.mn/eng/dblistofficialda...</td>\n",
       "    </tr>\n",
       "    <tr>\n",
       "      <th>1</th>\n",
       "      <td>2000-01-02</td>\n",
       "      <td>https://www.mongolbank.mn/eng/dblistofficialda...</td>\n",
       "    </tr>\n",
       "    <tr>\n",
       "      <th>2</th>\n",
       "      <td>2000-01-03</td>\n",
       "      <td>https://www.mongolbank.mn/eng/dblistofficialda...</td>\n",
       "    </tr>\n",
       "    <tr>\n",
       "      <th>3</th>\n",
       "      <td>2000-01-04</td>\n",
       "      <td>https://www.mongolbank.mn/eng/dblistofficialda...</td>\n",
       "    </tr>\n",
       "    <tr>\n",
       "      <th>4</th>\n",
       "      <td>2000-01-05</td>\n",
       "      <td>https://www.mongolbank.mn/eng/dblistofficialda...</td>\n",
       "    </tr>\n",
       "  </tbody>\n",
       "</table>\n",
       "</div>"
      ],
      "text/plain": [
       "        days                                               urls\n",
       "0 2000-01-01  https://www.mongolbank.mn/eng/dblistofficialda...\n",
       "1 2000-01-02  https://www.mongolbank.mn/eng/dblistofficialda...\n",
       "2 2000-01-03  https://www.mongolbank.mn/eng/dblistofficialda...\n",
       "3 2000-01-04  https://www.mongolbank.mn/eng/dblistofficialda...\n",
       "4 2000-01-05  https://www.mongolbank.mn/eng/dblistofficialda..."
      ]
     },
     "execution_count": 8,
     "metadata": {},
     "output_type": "execute_result"
    }
   ],
   "source": [
    "scraping.head()"
   ]
  },
  {
   "cell_type": "code",
   "execution_count": 11,
   "metadata": {},
   "outputs": [
    {
     "data": {
      "text/plain": [
       "'https://www.mongolbank.mn/eng/dblistofficialdailyrate.aspx?vYear=2000&vMonth=1&vDay=1'"
      ]
     },
     "execution_count": 11,
     "metadata": {},
     "output_type": "execute_result"
    }
   ],
   "source": [
    "scraping.iloc[0]['urls']"
   ]
  },
  {
   "cell_type": "code",
   "execution_count": null,
   "metadata": {
    "colab": {},
    "colab_type": "code",
    "id": "QAM9Unce0-wh"
   },
   "outputs": [],
   "source": [
    "for index, row in scraping.iterrows():\n",
    "    try:\n",
    "        #fetch the page from the URL\n",
    "        page_response = requests.get(row['urls'], timeout=15)\n",
    "\n",
    "        #Initialize BeautifulSoup and parse page data\n",
    "        soup = BeautifulSoup(page_response.content)\n",
    "        \n",
    "        #find an store variables\n",
    "        usd = soup.find(id=\"ContentPlaceHolder1_lblUSD\").text\n",
    "        date = row['days'].strftime('%m/%d/%Y')\n",
    "        #append scraped data to dataframe\n",
    "        exchange_rate = exchange_rate.append({'Date': date,\n",
    "                                              'USD': usd}, \n",
    "                                             ignore_index=True)\n",
    "    except:\n",
    "        exchange_rate = exchange_rate.append({'Date': 'error',\n",
    "                                              'USD': 'error'},\n",
    "                                             ignore_index=True)    "
   ]
  },
  {
   "cell_type": "code",
   "execution_count": 12,
   "metadata": {
    "colab": {
     "base_uri": "https://localhost:8080/",
     "height": 195
    },
    "colab_type": "code",
    "executionInfo": {
     "elapsed": 1629,
     "status": "ok",
     "timestamp": 1586930098460,
     "user": {
      "displayName": "Robert Ritz",
      "photoUrl": "https://lh3.googleusercontent.com/a-/AOh14GigOpbASLGi02nNy3FkjCvro6LkFB8UiORVD1bB0pw=s64",
      "userId": "00501718579314655634"
     },
     "user_tz": -480
    },
    "id": "W_I1qH370-wj",
    "outputId": "fbdf1093-e91f-4908-82e4-dd0358d5ac9e"
   },
   "outputs": [
    {
     "data": {
      "text/html": [
       "<div>\n",
       "<style scoped>\n",
       "    .dataframe tbody tr th:only-of-type {\n",
       "        vertical-align: middle;\n",
       "    }\n",
       "\n",
       "    .dataframe tbody tr th {\n",
       "        vertical-align: top;\n",
       "    }\n",
       "\n",
       "    .dataframe thead th {\n",
       "        text-align: right;\n",
       "    }\n",
       "</style>\n",
       "<table border=\"1\" class=\"dataframe\">\n",
       "  <thead>\n",
       "    <tr style=\"text-align: right;\">\n",
       "      <th></th>\n",
       "      <th>Date</th>\n",
       "      <th>USD</th>\n",
       "    </tr>\n",
       "  </thead>\n",
       "  <tbody>\n",
       "    <tr>\n",
       "      <th>0</th>\n",
       "      <td>01/01/2000</td>\n",
       "      <td></td>\n",
       "    </tr>\n",
       "    <tr>\n",
       "      <th>1</th>\n",
       "      <td>01/02/2000</td>\n",
       "      <td></td>\n",
       "    </tr>\n",
       "    <tr>\n",
       "      <th>2</th>\n",
       "      <td>01/03/2000</td>\n",
       "      <td></td>\n",
       "    </tr>\n",
       "    <tr>\n",
       "      <th>3</th>\n",
       "      <td>01/04/2000</td>\n",
       "      <td></td>\n",
       "    </tr>\n",
       "    <tr>\n",
       "      <th>4</th>\n",
       "      <td>01/05/2000</td>\n",
       "      <td></td>\n",
       "    </tr>\n",
       "  </tbody>\n",
       "</table>\n",
       "</div>"
      ],
      "text/plain": [
       "         Date USD\n",
       "0  01/01/2000    \n",
       "1  01/02/2000    \n",
       "2  01/03/2000    \n",
       "3  01/04/2000    \n",
       "4  01/05/2000    "
      ]
     },
     "execution_count": 12,
     "metadata": {
      "tags": []
     },
     "output_type": "execute_result"
    }
   ],
   "source": [
    "exchange_rate.head()    "
   ]
  },
  {
   "cell_type": "code",
   "execution_count": null,
   "metadata": {
    "colab": {},
    "colab_type": "code",
    "id": "zWjBw-iX0-wm"
   },
   "outputs": [],
   "source": [
    "## Use this for exporting to local project folder when using a local runtime.\n",
    "exchange_rate.to_csv('./data/raw/usd-mnt.csv', index=False)"
   ]
  },
  {
   "cell_type": "code",
   "execution_count": null,
   "metadata": {
    "colab": {},
    "colab_type": "code",
    "id": "3Opb0Tpabh2K"
   },
   "outputs": [],
   "source": []
  }
 ],
 "metadata": {
  "colab": {
   "collapsed_sections": [],
   "name": "Scrape USD-MNT.ipynb",
   "provenance": [],
   "toc_visible": true
  },
  "kernelspec": {
   "display_name": "Python 3",
   "language": "python",
   "name": "python3"
  },
  "language_info": {
   "codemirror_mode": {
    "name": "ipython",
    "version": 3
   },
   "file_extension": ".py",
   "mimetype": "text/x-python",
   "name": "python",
   "nbconvert_exporter": "python",
   "pygments_lexer": "ipython3",
   "version": "3.7.8"
  }
 },
 "nbformat": 4,
 "nbformat_minor": 4
}
