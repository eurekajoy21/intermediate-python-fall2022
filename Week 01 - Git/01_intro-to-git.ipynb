{
 "cells": [
  {
   "cell_type": "markdown",
   "metadata": {},
   "source": [
    "# Introduction to git\n",
    "* Git is a free and open source distributed version control system designed to handle everything from small to very large projects with speed and efficiency. \n",
    "* Basically git is a system that tracks your git-initialized folder and:\n",
    "    - Records every single change the tracked files.\n",
    "    - Allows you to quickly grab the changes.\n",
    "    - Move into and out of the changes. \n",
    "* In other words, it is an advanced **CTRL+Z** functionality in a whole folder for you and for everyone who has access to that folder. If others change the content you can *merge* these changes."
   ]
  },
  {
   "cell_type": "markdown",
   "metadata": {},
   "source": [
    "## Outline\n",
    "1. [Setup instructions](#Setup-instructions)\n",
    "2. [Repositories](#Repositories)\n",
    "3. [Commiting changes](#Commiting-changes)\n",
    "4. [Ignoring files](#Ignoring-files)\n",
    "5. [Reversion to the commits](#Reversion-to-the-commits)\n",
    "6. [Branches](#Branches)\n",
    "7. [Git Desktop applications](#Git-GUI-Client)"
   ]
  },
  {
   "cell_type": "markdown",
   "metadata": {},
   "source": [
    "# Setup instructions\n",
    "1. Click the link [git download link](https://git-scm.com/downloads) and choose your Operating System to download and look at the instructions on the website if need help.\n",
    "2. Verify your installation by going into your **terminal** and writing ```git --version``` should return the current version of git if you are on Mac or Linux machine. If you are on Windows, you can use built-in Powershell terminal, or the Git Bash terminal which is bundled with your git installation.\n",
    "\n",
    "### Configuring your Name and Email\n",
    "Run the following command in your terminal to identify yourself in git. Your project collaborators will see you as your name and email in the git.\n",
    "```bash \n",
    "git config --global user.name \"Your Name\"\n",
    "git config --global user.email \"your@email.com\"\n",
    "```"
   ]
  },
  {
   "cell_type": "markdown",
   "metadata": {},
   "source": [
    "# Repositories\n",
    "A git repository is a container for your project. In simple terms, repositories are the main folders in your local machine and remote server. \n",
    "* **Local repository** is the one that is initialized or created on your local machine and you can test your version of the project.\n",
    "* **Remote repository** is stored outside of your local machine, usually on remote server. It is the place where your version of the project meets with the other project collaborators. "
   ]
  },
  {
   "cell_type": "markdown",
   "metadata": {},
   "source": [
    "To create repositories on your local machine, go to the terminal and run the command below:\n",
    "```bash\n",
    "git init\n",
    "```"
   ]
  },
  {
   "cell_type": "markdown",
   "metadata": {},
   "source": [
    "This command will generate a hidden **.git** file on your project folder and track and store all of your changes."
   ]
  },
  {
   "cell_type": "markdown",
   "metadata": {},
   "source": [
    "# Commiting changes\n",
    "Commiting is the process of saving your recent changes in the project folders or a **snapshot/checkpoint** of what has been changed at what time. You make as many commits as you need and you can go back to that exact commit and **reversion** your project or see the difference between commits.\n",
    "\n",
    "Most of the time commits are used for testing purposes such as testing the new interface and deciding if it was useful or not.\n",
    "\n",
    "**There are certain steps to follow before commiting the changes**\n",
    "1. Checking the **Status** of the project. Status indicates the changes in a project or tracks a project.\n",
    "   * By running the command below you can see the status of the project. \n",
    "   ```bash \n",
    "   git status\n",
    "   ```\n",
    "2. Adding changes to the **Staging area** where the files are being tracked and ready to be commited. \n",
    "   * Run the command below to add single changed file to stage.\n",
    "   ```bash\n",
    "   git add example.txt\n",
    "   ```\n",
    "   * Run the command below to add multiple changed files to stage:\n",
    "   ```bash\n",
    "   git add example.txt, home.html, style.css\n",
    "   ```\n",
    "   * Run the command below to add all the changed files to stage.\n",
    "   ```bash\n",
    "   git add .\n",
    "   ```\n",
    "3. Making the actual **Commits** where we saves the checkpoint of the project to the commit history of the repository. \n",
    "   * To commit the files from the staging area, use the command below:\n",
    "   ```bash\n",
    "   git commit -m \"Commit Message\"\n",
    "   ```\n",
    "   * Writing commit message should give other collaborators and yourself an easy way to understand the changes in your project.\n",
    "4. Updating the remote git server with the latest change by **pushing** your changes\n",
    "   * To push the files to the remote server, use the command below:\n",
    "   ```bash\n",
    "   git push\n",
    "   ```\n",
    "5. Updating the local project by **pulling** the latest change from the remote server. \n",
    "   * To pull the files from the remote server, use the command below:\n",
    "   ```bash\n",
    "   git pull\n",
    "   ```"
   ]
  },
  {
   "cell_type": "markdown",
   "metadata": {},
   "source": [
    "![git example](images/git_repos.jpg)"
   ]
  },
  {
   "cell_type": "markdown",
   "metadata": {},
   "source": [
    "# Ignoring files\n",
    "When you don't want to track changes in your specific files you can create the file called `.gitignore` and list the file names that you want to ignore. Usually it is used to ignore files such as Mac's .dbstore and some code editors' automatically created hidden files."
   ]
  },
  {
   "cell_type": "markdown",
   "metadata": {},
   "source": [
    "# Reversion to the commits\n",
    "When you need to reversion your project into the commit that was saved befoe, you can do it in 2 steps. \n",
    "1. Check the logs where you can see your commits by running the command below:\n",
    "   ```bash\n",
    "   git log\n",
    "   ```\n",
    "2. To go back to your chosen commits, run the command below with the commit-hash that can be seen in your commit logs\n",
    "   ```bash\n",
    "   git checkout <commit-hash>\n",
    "   ```\n",
    "3. To go to the latest commit(newest version of your project), run the command below:\n",
    "   ```bash\n",
    "   git checkout master\n",
    "   ```"
   ]
  },
  {
   "cell_type": "markdown",
   "metadata": {},
   "source": [
    "# Branches\n",
    "A branch is used as co-existing parallel environment that has different repositories and commits. Branches are excessively used to test the buggy features, new features, or unfinished developments that are later be fixed and merged to the originial master branch. \n",
    "\n",
    "> **A good programming project's git structure** should have branches in order of below:\n",
    ">   * Test- to make experiments, test new features or fix current features\n",
    ">   * Development- to develop something new related to the project\n",
    ">   * Master- current project's branch called master"
   ]
  },
  {
   "cell_type": "markdown",
   "metadata": {},
   "source": [
    "![git branch](images/git_branches.jpg)"
   ]
  },
  {
   "cell_type": "markdown",
   "metadata": {},
   "source": [
    "### Creating a new branch\n",
    "To create the new branch, run the command below. The new branch will have everything as same as master branch.\n",
    "```bash\n",
    "git branch <new-branch-name>\n",
    "```"
   ]
  },
  {
   "cell_type": "markdown",
   "metadata": {},
   "source": [
    "### Changing branches\n",
    "To switch between branches, run the command below.\n",
    "```bash\n",
    "git checkout <branch-name>\n",
    "```\n",
    "To create a new branch and switch to that branch, run the command below.\n",
    "```bash\n",
    "git checkout -b <new-branch-name>\n",
    "```"
   ]
  },
  {
   "cell_type": "markdown",
   "metadata": {},
   "source": [
    "### Merging branches\n",
    "Most of the time you would want to merge the branches when development of the project succeeds and you want to add it to your current project. Example: Merging the **master branch** with the **development branch**.\n",
    "To merge the changes from a different branch into your current branch, run the command below:\n",
    "```bash\n",
    "git merge <branch-name>\n",
    "```"
   ]
  },
  {
   "cell_type": "markdown",
   "metadata": {},
   "source": [
    "### Deleting a branch\n",
    "To delete a branch that is not needed, run the command below:\n",
    "```bash\n",
    "git branch -d <branch-name>\n",
    "```"
   ]
  },
  {
   "cell_type": "markdown",
   "metadata": {},
   "source": [
    "# Git GUI Client\n",
    "If you want to see visuals on your project's commits and different timelines, you can use Git desktop applications.\n",
    "You can save a lot of time just by clicking few buttons rather than tinkering and travelling in the terminals. \n",
    "1. <img src=\"images/sublime-merge.png\" width=\"30\" height=\"3|0\" /> [Sublime Merge](https://www.sublimemerge.com/), Text editor **sublime text** made its unique desktop git client and its easy to use. \n",
    "2. <img src=\"images/git_kraken.png\" width=\"30\" height=\"3|0\" />[Git Kraken](https://www.gitkraken.com/), Dedicated git gui client, beautiful user interface, color schemes and the dark mode.\n"
   ]
  }
 ],
 "metadata": {
  "kernelspec": {
   "display_name": "Python 3 (ipykernel)",
   "language": "python",
   "name": "python3"
  },
  "language_info": {
   "codemirror_mode": {
    "name": "ipython",
    "version": 3
   },
   "file_extension": ".py",
   "mimetype": "text/x-python",
   "name": "python",
   "nbconvert_exporter": "python",
   "pygments_lexer": "ipython3",
   "version": "3.8.13"
  }
 },
 "nbformat": 4,
 "nbformat_minor": 4
}
