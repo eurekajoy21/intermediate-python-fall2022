{
 "cells": [
  {
   "cell_type": "markdown",
   "metadata": {},
   "source": [
    "# Here's some exercises to do to improve your function writing in python\n",
    "Please refer to the [writing good functions notebook](writing_good_functions.ipynb) in order to get some guidlines.\n",
    "\n",
    "Below are the checklists to write a good function:\n",
    "- [x] Naming\n",
    "- [x] Single purpose\n",
    "- [x] Documenting\n",
    "- [x] Clear and concise\n",
    "- [x] Return value"
   ]
  },
  {
   "cell_type": "markdown",
   "metadata": {},
   "source": [
    "**Exercise 1**: Write a Python function to reverse a string. Write a simple Docstring that clearly shows the purpose of the function.\n",
    "\n",
    "Sample String : \"123456abcde\" <br>\n",
    "Expected Output : \"edcba654321\""
   ]
  },
  {
   "cell_type": "code",
   "execution_count": 3,
   "metadata": {},
   "outputs": [],
   "source": [
    "### Exercise1: You may use numpy library"
   ]
  },
  {
   "cell_type": "code",
   "execution_count": null,
   "metadata": {},
   "outputs": [],
   "source": []
  },
  {
   "cell_type": "markdown",
   "metadata": {},
   "source": [
    "**Exercise 2**: Write a Python function to print the even numbers from a given list. Write a simple Docstring that clearly shows the purpose of the function.\n",
    "\n",
    "Sample List : [1, 2, 3, 4, 5, 6, 7, 8, 9] <br>\n",
    "Expected Result : [2, 4, 6, 8]"
   ]
  },
  {
   "cell_type": "code",
   "execution_count": 12,
   "metadata": {},
   "outputs": [],
   "source": [
    "### Exercise 2: You may use numpy library"
   ]
  },
  {
   "cell_type": "code",
   "execution_count": null,
   "metadata": {},
   "outputs": [],
   "source": []
  },
  {
   "cell_type": "markdown",
   "metadata": {},
   "source": [
    "**Exercise 3**: Write a Python function to print the max, min, and sum of the given list. Write a simple Docstring that clearly shows the purpose of the function.\n",
    "\n",
    "Sample List: [12, 30, 24, 21, 20 ,17, 28, 19, 31, 22] <br>\n",
    "Expected Output: Max: ..., Min: ..., Sum: ..."
   ]
  },
  {
   "cell_type": "code",
   "execution_count": 27,
   "metadata": {},
   "outputs": [],
   "source": [
    "### Exercise 3: You may use numpy library"
   ]
  },
  {
   "cell_type": "code",
   "execution_count": null,
   "metadata": {},
   "outputs": [],
   "source": []
  },
  {
   "cell_type": "markdown",
   "metadata": {},
   "source": [
    "**Exercise 4**: Create a nested function to perform addition in the following way. Write a simple Docstring that clearly shows the purpose of the function.\n",
    "1. Create an outer function that will accept three parameters **a**, **b**, and **c**\n",
    "2. Create an inner function inside an outer function that will calculate the addition of **a** and **b**\n",
    "3. At last, an outer function will add **c** into addition and return it\n",
    "\n",
    "Given parameters: \n",
    "* a = 10\n",
    "* b = 5\n",
    "* c = 3\n",
    "\n",
    "Expected output: 18"
   ]
  },
  {
   "cell_type": "code",
   "execution_count": null,
   "metadata": {},
   "outputs": [],
   "source": [
    "### Exercise 4: You don't need additional library to perform this"
   ]
  },
  {
   "cell_type": "markdown",
   "metadata": {},
   "source": [
    "**Exercise 5**: Create a function that plots the histogram of the given list, and print out the simple statistics using pandas describe. Write a simple Docstring that clearly shows the purpose of the function.\n",
    "1. Plot the histogram of the given numpy array **statme** using pandas.\n",
    "2. Print the simple statistics of the **statme** array using pandas.\n",
    "3. Return the both statistics and histogram in a single run"
   ]
  },
  {
   "cell_type": "code",
   "execution_count": 29,
   "metadata": {},
   "outputs": [],
   "source": [
    "### Exercise 5: You may use numpy and pandas for this exercise\n",
    "statme = np.random.randint(1, 10, 200)"
   ]
  },
  {
   "cell_type": "code",
   "execution_count": null,
   "metadata": {},
   "outputs": [],
   "source": []
  }
 ],
 "metadata": {
  "kernelspec": {
   "display_name": "Python 3",
   "language": "python",
   "name": "python3"
  },
  "language_info": {
   "codemirror_mode": {
    "name": "ipython",
    "version": 3
   },
   "file_extension": ".py",
   "mimetype": "text/x-python",
   "name": "python",
   "nbconvert_exporter": "python",
   "pygments_lexer": "ipython3",
   "version": "3.8.8"
  }
 },
 "nbformat": 4,
 "nbformat_minor": 4
}
