{
 "cells": [
  {
   "cell_type": "markdown",
   "id": "6bb8edd7-5f3a-4c94-ae74-232b4f720320",
   "metadata": {},
   "source": [
    "# Object Oriented Programming Exercises\n",
    "\n",
    "Complete these exercises to test your skills!"
   ]
  },
  {
   "cell_type": "markdown",
   "id": "d9513233-a889-40c4-b42d-4403f81d205f",
   "metadata": {},
   "source": [
    "## Exercise #1\n",
    "\n",
    "Create a class named \"Dog\" that has two properties, breed and age."
   ]
  },
  {
   "cell_type": "code",
   "execution_count": 2,
   "id": "74dfda50-0cac-48de-a8ef-9ddf8d5bb019",
   "metadata": {},
   "outputs": [],
   "source": [
    "# Your code here\n",
    "class Dog:\n",
    "  def __init__(self, breed, age):\n",
    "    self.breed = breed\n",
    "    self.age = age"
   ]
  },
  {
   "cell_type": "markdown",
   "id": "45867afa-ea45-4e9a-9e00-62b1137a552f",
   "metadata": {},
   "source": [
    "## Exercise #2\n",
    "\n",
    "Create a child class \"Puppies\" that inherits all the properties of the \"Dog\" class."
   ]
  },
  {
   "cell_type": "code",
   "execution_count": 4,
   "id": "ebf65011-4f60-42b7-b1cf-10e357814b63",
   "metadata": {},
   "outputs": [],
   "source": [
    "# Your code here\n",
    "class Puppies(Dog):\n",
    "  def __init__(self, breed, age):\n",
    "    super().__init__(breed, age)"
   ]
  },
  {
   "cell_type": "code",
   "execution_count": 5,
   "id": "b27ea501-0896-4855-b6d4-768b22a7e278",
   "metadata": {},
   "outputs": [
    {
     "data": {
      "text/plain": [
       "'bulldog'"
      ]
     },
     "execution_count": 5,
     "metadata": {},
     "output_type": "execute_result"
    }
   ],
   "source": [
    "pup = Puppies(\"bulldog\", 5)\n",
    "pup.breed"
   ]
  },
  {
   "cell_type": "markdown",
   "id": "0e3f4c1d-95d0-4c78-b6e5-319ffee4efaa",
   "metadata": {},
   "source": [
    "## Exercise #3\n",
    "\n",
    "* Create a custom Exception class called AgeError. \n",
    "* You should then copy your Dog class from above and modify it to give the AgeError if a negative age is entered.\n",
    "* Example: Instantiating Dog class with \"puddle\" and -1 should raise an AgeError"
   ]
  },
  {
   "cell_type": "code",
   "execution_count": 6,
   "id": "3b677532-5547-4621-b501-0bdd85cd2dc8",
   "metadata": {},
   "outputs": [],
   "source": [
    "# Your code here\n",
    "class AgeError(Exception):\n",
    "  \"\"\"\n",
    "  Raises when a negative age is entered\n",
    "  \"\"\"\n",
    "  pass"
   ]
  },
  {
   "cell_type": "code",
   "execution_count": 7,
   "id": "591d6886-72a1-4f5b-9803-895fa9f3ab9e",
   "metadata": {},
   "outputs": [],
   "source": [
    "# Your code here\n",
    "class Dog:\n",
    "  def __init__(self, breed, age):\n",
    "    if age < 0:\n",
    "      raise AgeError(\"Can't have negative age! Please try again\")\n",
    "    else:\n",
    "      self.breed = breed\n",
    "      self.age = age"
   ]
  },
  {
   "cell_type": "code",
   "execution_count": 8,
   "id": "46cc9e7b-076a-4fc8-b178-e25c5b6414a7",
   "metadata": {},
   "outputs": [
    {
     "ename": "AgeError",
     "evalue": "Can't have negative age! Please try again",
     "output_type": "error",
     "traceback": [
      "\u001b[1;31m---------------------------------------------------------------------------\u001b[0m",
      "\u001b[1;31mAgeError\u001b[0m                                  Traceback (most recent call last)",
      "Input \u001b[1;32mIn [8]\u001b[0m, in \u001b[0;36m<cell line: 1>\u001b[1;34m()\u001b[0m\n\u001b[1;32m----> 1\u001b[0m dog \u001b[38;5;241m=\u001b[39m \u001b[43mDog\u001b[49m\u001b[43m(\u001b[49m\u001b[38;5;124;43m\"\u001b[39;49m\u001b[38;5;124;43mbulldgog\u001b[39;49m\u001b[38;5;124;43m\"\u001b[39;49m\u001b[43m,\u001b[49m\u001b[43m \u001b[49m\u001b[38;5;241;43m-\u001b[39;49m\u001b[38;5;241;43m1\u001b[39;49m\u001b[43m)\u001b[49m\n",
      "Input \u001b[1;32mIn [7]\u001b[0m, in \u001b[0;36mDog.__init__\u001b[1;34m(self, breed, age)\u001b[0m\n\u001b[0;32m      3\u001b[0m \u001b[38;5;28;01mdef\u001b[39;00m \u001b[38;5;21m__init__\u001b[39m(\u001b[38;5;28mself\u001b[39m, breed, age):\n\u001b[0;32m      4\u001b[0m   \u001b[38;5;28;01mif\u001b[39;00m age \u001b[38;5;241m<\u001b[39m \u001b[38;5;241m0\u001b[39m:\n\u001b[1;32m----> 5\u001b[0m     \u001b[38;5;28;01mraise\u001b[39;00m AgeError(\u001b[38;5;124m\"\u001b[39m\u001b[38;5;124mCan\u001b[39m\u001b[38;5;124m'\u001b[39m\u001b[38;5;124mt have negative age! Please try again\u001b[39m\u001b[38;5;124m\"\u001b[39m)\n\u001b[0;32m      6\u001b[0m   \u001b[38;5;28;01melse\u001b[39;00m:\n\u001b[0;32m      7\u001b[0m     \u001b[38;5;28mself\u001b[39m\u001b[38;5;241m.\u001b[39mbreed \u001b[38;5;241m=\u001b[39m breed\n",
      "\u001b[1;31mAgeError\u001b[0m: Can't have negative age! Please try again"
     ]
    }
   ],
   "source": [
    "dog = Dog(\"bulldgog\", -1)"
   ]
  },
  {
   "cell_type": "code",
   "execution_count": null,
   "id": "028b78a2-3bcc-4e28-aad7-26a2b88bc394",
   "metadata": {},
   "outputs": [],
   "source": []
  }
 ],
 "metadata": {
  "kernelspec": {
   "display_name": "Python 3 (ipykernel)",
   "language": "python",
   "name": "python3"
  },
  "language_info": {
   "codemirror_mode": {
    "name": "ipython",
    "version": 3
   },
   "file_extension": ".py",
   "mimetype": "text/x-python",
   "name": "python",
   "nbconvert_exporter": "python",
   "pygments_lexer": "ipython3",
   "version": "3.8.13"
  }
 },
 "nbformat": 4,
 "nbformat_minor": 5
}
