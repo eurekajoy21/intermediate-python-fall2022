{
 "cells": [
  {
   "cell_type": "markdown",
   "id": "6bb8edd7-5f3a-4c94-ae74-232b4f720320",
   "metadata": {},
   "source": [
    "# Object Oriented Programming Exercises\n",
    "\n",
    "Complete these exercises to test your skills!"
   ]
  },
  {
   "cell_type": "markdown",
   "id": "d9513233-a889-40c4-b42d-4403f81d205f",
   "metadata": {},
   "source": [
    "## Exercise #1\n",
    "\n",
    "Create a class named \"Dog\" that has two properties, breed and age."
   ]
  },
  {
   "cell_type": "code",
   "execution_count": null,
   "id": "74dfda50-0cac-48de-a8ef-9ddf8d5bb019",
   "metadata": {},
   "outputs": [],
   "source": [
    "# Your code here"
   ]
  },
  {
   "cell_type": "markdown",
   "id": "45867afa-ea45-4e9a-9e00-62b1137a552f",
   "metadata": {},
   "source": [
    "## Exercise #2\n",
    "\n",
    "Create a child class \"Puppies\" that inherits all the properties of the \"Dog\" class."
   ]
  },
  {
   "cell_type": "code",
   "execution_count": 2,
   "id": "ebf65011-4f60-42b7-b1cf-10e357814b63",
   "metadata": {},
   "outputs": [],
   "source": [
    "# Your code here\n"
   ]
  },
  {
   "cell_type": "markdown",
   "id": "0e3f4c1d-95d0-4c78-b6e5-319ffee4efaa",
   "metadata": {},
   "source": [
    "## Exercise #3\n",
    "\n",
    "* Create a custom Exception class called AgeError. \n",
    "* You should then copy your Dog class from above and modify it to give the AgeError if a negative age is entered.\n",
    "* Example: Instantiating Dog class with \"puddle\" and -1 should raise an AgeError"
   ]
  },
  {
   "cell_type": "code",
   "execution_count": 4,
   "id": "3b677532-5547-4621-b501-0bdd85cd2dc8",
   "metadata": {},
   "outputs": [],
   "source": [
    "# Your code here\n"
   ]
  }
 ],
 "metadata": {
  "kernelspec": {
   "display_name": "Python 3 (ipykernel)",
   "language": "python",
   "name": "python3"
  },
  "language_info": {
   "codemirror_mode": {
    "name": "ipython",
    "version": 3
   },
   "file_extension": ".py",
   "mimetype": "text/x-python",
   "name": "python",
   "nbconvert_exporter": "python",
   "pygments_lexer": "ipython3",
   "version": "3.8.13"
  }
 },
 "nbformat": 4,
 "nbformat_minor": 5
}
