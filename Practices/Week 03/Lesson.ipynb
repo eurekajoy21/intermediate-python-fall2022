{
 "cells": [
  {
   "cell_type": "markdown",
   "id": "a33c012e-effa-44c8-961f-41b6540a7798",
   "metadata": {},
   "source": [
    "### Accessing properties from a child class"
   ]
  },
  {
   "cell_type": "markdown",
   "id": "bb422503-5886-4607-b2cd-8317989ded3d",
   "metadata": {},
   "source": [
    "#### You can access **child class'** properties from **parent** class"
   ]
  },
  {
   "cell_type": "code",
   "execution_count": 63,
   "id": "2e8be584-e5e3-48ed-be06-d7c1bfabc0cf",
   "metadata": {},
   "outputs": [],
   "source": [
    "class Person:\n",
    "  def __init__(self):\n",
    "    self.name = \"Dorj\"\n",
    "    \n",
    "  def show_name(self):\n",
    "    print(\"Name is: \", self.name)\n",
    "    \n",
    "class Student(Person):\n",
    "  def __init__(self, name):\n",
    "    self.name = name"
   ]
  },
  {
   "cell_type": "code",
   "execution_count": 65,
   "id": "9c112800-4f7a-4524-9470-c0cb67d0ddaf",
   "metadata": {},
   "outputs": [],
   "source": [
    "stu = Student('Bat')\n",
    "stu.show_name()"
   ]
  },
  {
   "cell_type": "markdown",
   "id": "f3e60a49-4faa-48a4-81ee-a1badc5a2fa5",
   "metadata": {},
   "source": [
    "#### You can not access **parent class'** properties from **child class** without initializing **parent class**"
   ]
  },
  {
   "cell_type": "code",
   "execution_count": 60,
   "id": "976fec90-8f67-40b0-9ad5-edd285ba6621",
   "metadata": {},
   "outputs": [],
   "source": [
    "class Person:\n",
    "  def __init__(self):\n",
    "    self.name = \"Dorj\"\n",
    "  \n",
    "  def show_name(self):\n",
    "    print(\"Name is: \", self.name)\n",
    "\n",
    "class Student(Person):\n",
    "  def __init__(self, name):\n",
    "    pass\n",
    "    # super().__init__()"
   ]
  },
  {
   "cell_type": "code",
   "execution_count": 62,
   "id": "47de4e62-96af-4c1c-b379-e2ed170fd7e6",
   "metadata": {
    "tags": []
   },
   "outputs": [],
   "source": [
    "st = Student(\"Bat\")\n",
    "st.show_name()"
   ]
  },
  {
   "cell_type": "code",
   "execution_count": null,
   "id": "2a30aebb-ada6-41b4-b3a9-6e2f056e596f",
   "metadata": {},
   "outputs": [],
   "source": []
  }
 ],
 "metadata": {
  "kernelspec": {
   "display_name": "Python 3 (ipykernel)",
   "language": "python",
   "name": "python3"
  },
  "language_info": {
   "codemirror_mode": {
    "name": "ipython",
    "version": 3
   },
   "file_extension": ".py",
   "mimetype": "text/x-python",
   "name": "python",
   "nbconvert_exporter": "python",
   "pygments_lexer": "ipython3",
   "version": "3.8.13"
  }
 },
 "nbformat": 4,
 "nbformat_minor": 5
}
