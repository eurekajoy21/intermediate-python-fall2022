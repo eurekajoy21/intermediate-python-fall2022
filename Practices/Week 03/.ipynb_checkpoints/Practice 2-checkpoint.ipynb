{
 "cells": [
  {
   "cell_type": "markdown",
   "id": "f1a04536-8a07-42f3-b74c-72bd8f89ee63",
   "metadata": {},
   "source": [
    "# Object Oriented Programming Exercises\n",
    "\n",
    "Complete these exercises to test your skills!"
   ]
  },
  {
   "cell_type": "markdown",
   "id": "f36edf7e-0b05-4f77-8352-c0eb80dfe7a5",
   "metadata": {},
   "source": [
    "## Exercise #1\n",
    "\n",
    "<!-- Create a class named \"Car\" that has two properties, **manufacturer** and **model**. -->\n",
    "Create a class named *Vehicle* that has two properties, **vtype** and **made_year**"
   ]
  },
  {
   "cell_type": "code",
   "execution_count": 1,
   "id": "9350d718-400a-4b65-81f9-8ceaad3fd395",
   "metadata": {},
   "outputs": [],
   "source": [
    "class Vehicle:\n",
    "  def __init__(self, vtype, made_year):\n",
    "    self.vtype = vtype\n",
    "    self.made_year = made_year"
   ]
  },
  {
   "cell_type": "code",
   "execution_count": 2,
   "id": "6c358a7a-e29c-47d8-b1a5-16617d895c75",
   "metadata": {},
   "outputs": [
    {
     "data": {
      "text/plain": [
       "'ford'"
      ]
     },
     "execution_count": 2,
     "metadata": {},
     "output_type": "execute_result"
    }
   ],
   "source": [
    "vvv = Vehicle(\"ford\", 2015)\n",
    "vvv.vtype"
   ]
  },
  {
   "cell_type": "markdown",
   "id": "ef88124d-5b71-4390-bafc-9befde8c9f32",
   "metadata": {},
   "source": [
    "## Exercise #2\n",
    "\n",
    "Create a method named **showit** in **Vehicle** that prints out *vtype*, *made_year*, *manufacturer* and *model*"
   ]
  },
  {
   "cell_type": "code",
   "execution_count": 3,
   "id": "07d095e0-9e11-48f6-975e-9cb489e91d4f",
   "metadata": {},
   "outputs": [],
   "source": [
    "class Vehicle:\n",
    "  def __init__(self, vtype, made_year):\n",
    "    self.vtype = vtype\n",
    "    self.made_year = made_year\n",
    "  \n",
    "  def showit(self):\n",
    "    print(\"Type\", self.vtype)\n",
    "    print(\"Made year\", self.made_year)    \n",
    "    print(\"Manufacturer\", self.manufacturer)    \n",
    "    print(\"Model\", self.model)    "
   ]
  },
  {
   "cell_type": "markdown",
   "id": "c78f5be8-6ac0-48a3-be6b-ea968df1c328",
   "metadata": {},
   "source": [
    "## Exercise #3\n",
    "\n",
    "<!-- Create a child class named **Car** that inherits **Vehicle** class -->\n",
    "* Create a child class named **Car** that has two properties **manufacturer** and **model**. It should inherit **Vehicle** class. \n",
    "* Initialize parent class with \"SUV\" and 2015 as properties. "
   ]
  },
  {
   "cell_type": "code",
   "execution_count": 9,
   "id": "a30f6876-a88d-4410-bdca-b8328be69e2c",
   "metadata": {},
   "outputs": [],
   "source": [
    "class Car(Vehicle):\n",
    "  def __init__(self, manufacturer, model):\n",
    "    self.manufacturer = manufacturer\n",
    "    self.model = model\n",
    "    super().__init__(\"SUV\", 2015)"
   ]
  },
  {
   "cell_type": "markdown",
   "id": "814e085d-7092-40e2-8131-b957ee0754f7",
   "metadata": {},
   "source": [
    "## Exercise #4\n",
    "\n",
    "Instantiate **Car** class and call the **showit** function.\n",
    "\n",
    "Example: calling **Car** class with \"toyota\" and \"Highlander\" should print out the following:\n",
    "```\n",
    "Type is:  SUV\n",
    "Made year is:  2015\n",
    "Manufacturer is:  toyota\n",
    "Model is:  Highlander\n",
    "```"
   ]
  },
  {
   "cell_type": "code",
   "execution_count": 10,
   "id": "d3d6f586-b784-4726-b357-875cb8d55153",
   "metadata": {},
   "outputs": [],
   "source": [
    "ccc = Car(\"toyota\", \"Highlander\")"
   ]
  },
  {
   "cell_type": "code",
   "execution_count": 11,
   "id": "feda3d99-7633-4a6c-ad39-fc466e2ecd02",
   "metadata": {},
   "outputs": [
    {
     "name": "stdout",
     "output_type": "stream",
     "text": [
      "Type SUV\n",
      "Made year 2015\n",
      "Manufacturer toyota\n",
      "Model Highlander\n"
     ]
    }
   ],
   "source": [
    "ccc.showit()"
   ]
  },
  {
   "cell_type": "code",
   "execution_count": null,
   "id": "1b6637f8-adf7-439d-b37a-e5e0f76b0f0b",
   "metadata": {},
   "outputs": [],
   "source": []
  }
 ],
 "metadata": {
  "kernelspec": {
   "display_name": "Python 3 (ipykernel)",
   "language": "python",
   "name": "python3"
  },
  "language_info": {
   "codemirror_mode": {
    "name": "ipython",
    "version": 3
   },
   "file_extension": ".py",
   "mimetype": "text/x-python",
   "name": "python",
   "nbconvert_exporter": "python",
   "pygments_lexer": "ipython3",
   "version": "3.8.13"
  }
 },
 "nbformat": 4,
 "nbformat_minor": 5
}
