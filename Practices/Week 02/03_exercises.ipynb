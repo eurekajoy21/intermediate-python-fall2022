{
 "cells": [
  {
   "cell_type": "markdown",
   "metadata": {
    "id": "JqskjvYhLwaH"
   },
   "source": [
    "# Here's some exercises to do to improve your function writing in python\n",
    "Please refer to the [writing good functions notebook](writing_good_functions.ipynb) in order to get some guidlines.\n",
    "\n",
    "Below are the checklists to write a good function:\n",
    "- [x] Naming\n",
    "- [x] Single purpose\n",
    "- [x] Documenting\n",
    "- [x] Clear and concise\n",
    "- [x] Return value"
   ]
  },
  {
   "cell_type": "markdown",
   "metadata": {
    "id": "Jhje6VMNLwaK"
   },
   "source": [
    "**Exercise 1**: Write a Python function to reverse a string. Write a simple Docstring that clearly shows the purpose of the function.\n",
    "\n",
    "Sample String : \"123456abcde\" <br>\n",
    "Expected Output : \"edcba654321\""
   ]
  },
  {
   "cell_type": "code",
   "execution_count": null,
   "metadata": {
    "id": "ZZnX4BUkLwaL"
   },
   "outputs": [],
   "source": [
    "### Exercise1: You may use numpy library\n",
    "def reverse_string(string):\n",
    "    \"\"\"\n",
    "    The function accepts a string and returns the reverse of it. \n",
    "    Example:\n",
    "    - Input: 123456\n",
    "    - Output: 654321\n",
    "    \"\"\"\n",
    "    return str(string)[::-1]"
   ]
  },
  {
   "cell_type": "code",
   "execution_count": null,
   "metadata": {
    "id": "AJloqj5jLwaN",
    "outputId": "e353121f-4580-4597-a63b-1c54260706cb"
   },
   "outputs": [
    {
     "data": {
      "text/plain": [
       "'654321'"
      ]
     },
     "execution_count": 7,
     "metadata": {},
     "output_type": "execute_result"
    }
   ],
   "source": [
    "reverse_string(123456)"
   ]
  },
  {
   "cell_type": "markdown",
   "metadata": {
    "id": "74v4FQH6LwaO"
   },
   "source": [
    "**Exercise 2**: Write a Python function to print the even numbers from a given list. Write a simple Docstring that clearly shows the purpose of the function.\n",
    "\n",
    "Sample List : [1, 2, 3, 4, 5, 6, 7, 8, 9] <br>\n",
    "Expected Result : [2, 4, 6, 8]"
   ]
  },
  {
   "cell_type": "code",
   "execution_count": null,
   "metadata": {
    "id": "Rb0XpNUjLwaP"
   },
   "outputs": [],
   "source": [
    "### Exercise 2: You may use numpy library\n",
    "def get_evens(number_list: list):\n",
    "    \"\"\"\n",
    "    Accepts a list of numbers and then prints the even numbers from the list.\n",
    "    \"\"\"\n",
    "    for item in number_list:\n",
    "        if float(item) % 2 == 0:\n",
    "            print(item)"
   ]
  },
  {
   "cell_type": "code",
   "execution_count": null,
   "metadata": {
    "id": "XN_aK3ugLwaQ"
   },
   "outputs": [],
   "source": []
  },
  {
   "cell_type": "markdown",
   "metadata": {
    "id": "CMhFhkshLwaQ"
   },
   "source": [
    "**Exercise 3**: Write a Python function to print the max, min, and sum of the \n",
    "\n",
    "*   List item\n",
    "*   List item\n",
    "\n",
    "given list. Write a simple Docstring that clearly shows the purpose of the function.\n",
    "\n",
    "Sample List: [12, 30, 24, 21, 20 ,17, 28, 19, 31, 22] <br>\n",
    "Expected Output: Max: ..., Min: ..., Sum: ..."
   ]
  },
  {
   "cell_type": "code",
   "execution_count": 3,
   "metadata": {
    "id": "6Yox5MY6LwaR"
   },
   "outputs": [
    {
     "name": "stdout",
     "output_type": "stream",
     "text": [
      "Max 31\n",
      "Min 12\n",
      "Sum 224\n"
     ]
    }
   ],
   "source": [
    "### Exercise 3: You may use numpy library\n",
    "def list_stats(items):\n",
    "  \"\"\"\n",
    "  Prints a simple statistics of a given list\n",
    "  \"\"\"\n",
    "  print(\"Max\", max(items))\n",
    "  print(\"Min\", min(items))\n",
    "  print(\"Sum\", sum(items))\n",
    "list_stats([12, 30, 24, 21, 20 ,17, 28, 19, 31, 22])"
   ]
  },
  {
   "cell_type": "markdown",
   "metadata": {
    "id": "SLCXamitLwaT"
   },
   "source": [
    "**Exercise 4**: Create a nested function to perform addition in the following way. Write a simple Docstring that clearly shows the purpose of the function.\n",
    "1. Create an outer function that will accept three parameters **a**, **b**, and **c**\n",
    "2. Create an inner function inside an outer function that will calculate the addition of **a** and **b**\n",
    "3. At last, an outer function will add **c** into addition and return it\n",
    "\n",
    "Given parameters: \n",
    "* a = 10\n",
    "* b = 5\n",
    "* c = 3\n",
    "\n",
    "Expected output: 18"
   ]
  },
  {
   "cell_type": "code",
   "execution_count": 5,
   "metadata": {
    "id": "doiJwFROLwaU"
   },
   "outputs": [
    {
     "data": {
      "text/plain": [
       "18"
      ]
     },
     "execution_count": 5,
     "metadata": {},
     "output_type": "execute_result"
    }
   ],
   "source": [
    "### Exercise 4: You don't need additional library to perform this\n",
    "def addition(a, b, c):\n",
    "  \"\"\"\n",
    "  Returns the sum of a, b, c\n",
    "  \"\"\"\n",
    "  \n",
    "  def inner(a, b):\n",
    "    return a + b\n",
    "  sum_of_ab = inner(a, b)\n",
    "  return sum_of_ab + c\n",
    "addition(a=10, b=5, c=3)"
   ]
  },
  {
   "cell_type": "markdown",
   "metadata": {
    "id": "E2nyxkXaLwaU"
   },
   "source": [
    "**Exercise 5**: Create a function that plots the histogram of the given list, and print out the simple statistics using pandas describe. Write a simple Docstring that clearly shows the purpose of the function.\n",
    "1. Plot the histogram of the given numpy array **statme** using pandas.\n",
    "2. Print the simple statistics of the **statme** array using pandas.\n",
    "3. Return the both statistics and histogram in a single run"
   ]
  },
  {
   "cell_type": "code",
   "execution_count": 9,
   "metadata": {
    "id": "5kSHKrg2LwaV"
   },
   "outputs": [],
   "source": [
    "### Exercise 5: You may use numpy and pandas for this exercise\n",
    "import numpy as np\n",
    "statme = np.random.randint(1, 10, 200)"
   ]
  },
  {
   "cell_type": "code",
   "execution_count": 10,
   "metadata": {
    "id": "9yP6uX7DLwaV"
   },
   "outputs": [],
   "source": [
    "import pandas as pd"
   ]
  },
  {
   "cell_type": "code",
   "execution_count": 13,
   "metadata": {
    "tags": []
   },
   "outputs": [],
   "source": []
  },
  {
   "cell_type": "code",
   "execution_count": 17,
   "metadata": {
    "tags": []
   },
   "outputs": [
    {
     "data": {
      "text/plain": [
       "<AxesSubplot:ylabel='Frequency'>"
      ]
     },
     "execution_count": 17,
     "metadata": {},
     "output_type": "execute_result"
    },
    {
     "data": {
      "image/png": "[encoded data removed]",
      "text/plain": [
       "<Figure size 640x480 with 1 Axes>"
      ]
     },
     "metadata": {},
     "output_type": "display_data"
    }
   ],
   "source": [
    "df['data'].plot.hist()"
   ]
  },
  {
   "cell_type": "code",
   "execution_count": 20,
   "metadata": {
    "collapsed": true,
    "jupyter": {
     "outputs_hidden": true
    },
    "tags": []
   },
   "outputs": [
    {
     "name": "stdout",
     "output_type": "stream",
     "text": [
      "             data\n",
      "count  200.000000\n",
      "mean     5.030000\n",
      "std      2.528054\n",
      "min      1.000000\n",
      "25%      3.000000\n",
      "50%      5.000000\n",
      "75%      7.000000\n",
      "max      9.000000\n"
     ]
    }
   ],
   "source": [
    "print(df.describe())"
   ]
  },
  {
   "cell_type": "code",
   "execution_count": 24,
   "metadata": {},
   "outputs": [],
   "source": [
    "def plot_stat(stats):\n",
    "  \"\"\"\n",
    "  Gets the stats as a numpy array. Returns a pandas histogram.\n",
    "  \"\"\"\n",
    "  \n",
    "  df = pd.DataFrame(data=statme, columns=['data'])\n",
    "  figure = df['data'].plot.hist()\n",
    "  \n",
    "  print(df.describe())\n",
    "  return figure"
   ]
  },
  {
   "cell_type": "code",
   "execution_count": 25,
   "metadata": {},
   "outputs": [
    {
     "name": "stdout",
     "output_type": "stream",
     "text": [
      "             data\n",
      "count  200.000000\n",
      "mean     5.030000\n",
      "std      2.528054\n",
      "min      1.000000\n",
      "25%      3.000000\n",
      "50%      5.000000\n",
      "75%      7.000000\n",
      "max      9.000000\n"
     ]
    },
    {
     "data": {
      "text/plain": [
       "<AxesSubplot:ylabel='Frequency'>"
      ]
     },
     "execution_count": 25,
     "metadata": {},
     "output_type": "execute_result"
    },
    {
     "data": {
      "image/png": "[encoded data removed]",
      "text/plain": [
       "<Figure size 640x480 with 1 Axes>"
      ]
     },
     "metadata": {},
     "output_type": "display_data"
    }
   ],
   "source": [
    "plot_stat(statme)"
   ]
  },
  {
   "cell_type": "code",
   "execution_count": null,
   "metadata": {},
   "outputs": [],
   "source": []
  }
 ],
 "metadata": {
  "colab": {
   "collapsed_sections": [],
   "provenance": []
  },
  "kernelspec": {
   "display_name": "Python 3 (ipykernel)",
   "language": "python",
   "name": "python3"
  },
  "language_info": {
   "codemirror_mode": {
    "name": "ipython",
    "version": 3
   },
   "file_extension": ".py",
   "mimetype": "text/x-python",
   "name": "python",
   "nbconvert_exporter": "python",
   "pygments_lexer": "ipython3",
   "version": "3.8.13"
  }
 },
 "nbformat": 4,
 "nbformat_minor": 4
}
