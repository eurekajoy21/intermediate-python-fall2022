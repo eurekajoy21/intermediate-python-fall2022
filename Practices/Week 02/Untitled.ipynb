{
 "cells": [
  {
   "cell_type": "code",
   "execution_count": 3,
   "id": "22e3ee31-3b31-43e5-b16c-383efb493cc3",
   "metadata": {
    "scrolled": true,
    "tags": []
   },
   "outputs": [],
   "source": [
    "def func(f):\n",
    "  def wrapper(*args, **kwargs):\n",
    "    print(\"Started\")\n",
    "    rv = f(*args, **kwargs)\n",
    "    print(\"Ended\")\n",
    "    return rv\n",
    "  return wrapper\n",
    "\n",
    "@func\n",
    "def func2(x, t, y):\n",
    "  print(x, t, y)\n",
    "  return x\n",
    "\n",
    "@func\n",
    "def func3():\n",
    "  print(\"Iam func 3\")"
   ]
  },
  {
   "cell_type": "code",
   "execution_count": 5,
   "id": "cb5926e4-83b2-4e42-be0b-7ad681c3e57d",
   "metadata": {},
   "outputs": [
    {
     "name": "stdout",
     "output_type": "stream",
     "text": [
      "Started\n",
      "2 1 1\n",
      "Ended\n",
      "2\n"
     ]
    }
   ],
   "source": [
    "x = func2(2, 1, 1)\n",
    "print(x)"
   ]
  },
  {
   "cell_type": "code",
   "execution_count": null,
   "id": "2ec4f663-e626-4c21-9945-b1671d0e2e6f",
   "metadata": {},
   "outputs": [],
   "source": [
    "import time\n",
    "def timer(func):\n",
    "  def wrapper(*args, **kwargs):\n",
    "    start = time.time()\n",
    "    rv = func()\n",
    "    total = time.time() - start\n",
    "    print(\"Time:\", total)\n",
    "    return rv\n",
    "  return wrapper"
   ]
  },
  {
   "cell_type": "code",
   "execution_count": null,
   "id": "dab9579b-b5f7-4b96-831e-6b18b0ed8bcc",
   "metadata": {},
   "outputs": [],
   "source": [
    "@timer\n",
    "def test():\n",
    "  for _ in range(100000):\n",
    "    pass\n",
    "\n",
    "@timer\n",
    "def test2():\n",
    "  time.sleep(2)"
   ]
  },
  {
   "cell_type": "code",
   "execution_count": null,
   "id": "4f55acd7-47f3-4206-8889-504f8fabe851",
   "metadata": {},
   "outputs": [
    {
     "name": "stdout",
     "output_type": "stream",
     "text": [
      "Time: 0.0040056705474853516\n"
     ]
    }
   ],
   "source": [
    "test()"
   ]
  },
  {
   "cell_type": "code",
   "execution_count": 60,
   "id": "a8cf0b16-dfa5-4840-a317-4267a7ea77cf",
   "metadata": {},
   "outputs": [
    {
     "name": "stdout",
     "output_type": "stream",
     "text": [
      "Time: 2.002079486846924\n"
     ]
    }
   ],
   "source": [
    "test2()"
   ]
  },
  {
   "cell_type": "code",
   "execution_count": 58,
   "id": "cb0d71ac-3070-42d3-8082-18219f27557b",
   "metadata": {},
   "outputs": [
    {
     "name": "stdout",
     "output_type": "stream",
     "text": [
      "******************************\n",
      "%%%%%%%%%%%%%%%%%%%%%%%%%%%%%%\n",
      "Hello\n",
      "%%%%%%%%%%%%%%%%%%%%%%%%%%%%%%\n",
      "******************************\n"
     ]
    }
   ],
   "source": [
    "def star(func):\n",
    "    def inner(*args, **kwargs):\n",
    "        print(\"*\" * 30)\n",
    "        func(*args, **kwargs)\n",
    "        print(\"*\" * 30)\n",
    "    return inner\n",
    "\n",
    "\n",
    "def percent(func):\n",
    "    def inner(*args, **kwargs):\n",
    "        print(\"%\" * 30)\n",
    "        func(*args, **kwargs)\n",
    "        print(\"%\" * 30)\n",
    "    return inner\n",
    "\n",
    "\n",
    "@star\n",
    "@percent\n",
    "def printer(msg):\n",
    "    print(msg)\n",
    "\n",
    "\n",
    "printer(\"Hello\")"
   ]
  },
  {
   "cell_type": "code",
   "execution_count": 59,
   "id": "6d2d4250-bc94-46ba-b65e-061e2617e5f5",
   "metadata": {},
   "outputs": [
    {
     "name": "stdout",
     "output_type": "stream",
     "text": [
      "******************************\n",
      "%%%%%%%%%%%%%%%%%%%%%%%%%%%%%%\n",
      "S\n",
      "%%%%%%%%%%%%%%%%%%%%%%%%%%%%%%\n",
      "******************************\n"
     ]
    }
   ],
   "source": [
    "printer = star(percent(printer(\"S\")))"
   ]
  },
  {
   "cell_type": "code",
   "execution_count": 64,
   "id": "256b380b-0c16-41be-9416-bc5d6f7db6e9",
   "metadata": {},
   "outputs": [
    {
     "name": "stdout",
     "output_type": "stream",
     "text": [
      "400\n"
     ]
    }
   ],
   "source": [
    "# code for testing decorator chaining\n",
    "def decor1(func):\n",
    "  def inner():\n",
    "    x = func()\n",
    "    return x * x\n",
    "  return inner\n",
    " \n",
    "def decor(func):\n",
    "  def inner():\n",
    "    x = func()\n",
    "    return 2 * x\n",
    "  return inner\n",
    " \n",
    "@decor1\n",
    "@decor\n",
    "def num():\n",
    "  return 10\n",
    " \n",
    "print(num())"
   ]
  },
  {
   "cell_type": "code",
   "execution_count": 65,
   "id": "2f4e1ef9-f7dc-48ab-8e80-2c6d822ef4cb",
   "metadata": {},
   "outputs": [],
   "source": [
    "dd = decor1(decor(num))"
   ]
  },
  {
   "cell_type": "code",
   "execution_count": 66,
   "id": "b6b04633-9551-4eed-b02d-a3d3a69d262c",
   "metadata": {},
   "outputs": [
    {
     "data": {
      "text/plain": [
       "640000"
      ]
     },
     "execution_count": 66,
     "metadata": {},
     "output_type": "execute_result"
    }
   ],
   "source": [
    "dd()"
   ]
  },
  {
   "cell_type": "code",
   "execution_count": 63,
   "id": "a0418add-d004-4fa3-9beb-949589e3994a",
   "metadata": {},
   "outputs": [
    {
     "data": {
      "text/plain": [
       "20"
      ]
     },
     "execution_count": 63,
     "metadata": {},
     "output_type": "execute_result"
    }
   ],
   "source": [
    "sda = decor(num)\n",
    "sda()"
   ]
  },
  {
   "cell_type": "code",
   "execution_count": 89,
   "id": "5f6ad611-0799-412d-af0f-a079bb1fa82a",
   "metadata": {},
   "outputs": [
    {
     "data": {
      "text/plain": [
       "400"
      ]
     },
     "execution_count": 89,
     "metadata": {},
     "output_type": "execute_result"
    }
   ],
   "source": [
    "20*20"
   ]
  },
  {
   "cell_type": "markdown",
   "id": "1bf5d835-6506-43da-83d4-a3c75c6063ff",
   "metadata": {},
   "source": [
    "### Practice decorator"
   ]
  },
  {
   "cell_type": "markdown",
   "id": "83ba7529-6ba4-48be-9200-274fab5b4236",
   "metadata": {
    "tags": []
   },
   "source": [
    "#### Step 1: Create a function to calculate Body Mass Index.\n",
    "Body Mass Index is a simple calculation using a person's height and weight.\n",
    "\n",
    "The formula is `BMI = kg/m2` where kg is a person's weight in kilograms and m2 is their height in centimetres squared.\n",
    "Your function should take **weight** and **height** as inputs and return a bmi. Example: `yourfunction(78, 175)` should return 0.002553\n",
    "| BMI       | Status      |\n",
    "|-----------|-------------|\n",
    "| <= 18.4   | Underweight |\n",
    "| 18.5-24.9 | Normal      |\n",
    "| 25.0-39.9 | Overweight  |\n",
    "| >= 40.0   | Obese       |"
   ]
  },
  {
   "cell_type": "code",
   "execution_count": 32,
   "id": "dce08d14-9b9d-4e66-b211-69bc2a393439",
   "metadata": {},
   "outputs": [
    {
     "data": {
      "text/plain": [
       "0.002546938775510204"
      ]
     },
     "execution_count": 32,
     "metadata": {},
     "output_type": "execute_result"
    }
   ],
   "source": [
    "# Write your code\n",
    "def bmi(weight, height):\n",
    "  return weight / (height ** 2)\n",
    "bmi(78, 175)"
   ]
  },
  {
   "cell_type": "markdown",
   "id": "d02c2879-88a7-4ff3-af00-ab3005c2309d",
   "metadata": {
    "tags": []
   },
   "source": [
    "#### Step 2: Create a function to round up BMI\n",
    "Example: BMI of `0.0025535446391522234` should return `25.5`\n"
   ]
  },
  {
   "cell_type": "code",
   "execution_count": 33,
   "id": "91940472-0381-4b91-b0d6-faa67c6e375d",
   "metadata": {},
   "outputs": [
    {
     "data": {
      "text/plain": [
       "25.46938775510204"
      ]
     },
     "execution_count": 33,
     "metadata": {},
     "output_type": "execute_result"
    }
   ],
   "source": [
    "# Write your code\n",
    "def roundup(bmi):\n",
    "  return bmi * 10000\n",
    "roundup(bmi(78, 175))"
   ]
  },
  {
   "cell_type": "markdown",
   "id": "4b241664-f50b-47e7-8708-c6097193d12f",
   "metadata": {},
   "source": [
    "#### Step 3: Create a function to convert BMI into their Status\n",
    "Example: BMI of 21 should return `Normal`"
   ]
  },
  {
   "cell_type": "code",
   "execution_count": 34,
   "id": "4dd536c2-9bf3-47dc-b2fe-b6858def566b",
   "metadata": {},
   "outputs": [],
   "source": [
    "# Write your code\n",
    "def bmi_stat(bmi):\n",
    "  if bmi <= 18.4:\n",
    "    return \"Underweight\"\n",
    "  elif bmi > 18.5 and bmi < 24.9:\n",
    "    return \"Normal\"\n",
    "  elif bmi > 25 and bmi < 39.9:\n",
    "    return \"Overweight\"\n",
    "  elif bmi >= 40:\n",
    "    return \"Obese\""
   ]
  },
  {
   "cell_type": "markdown",
   "id": "07a3fd9e-fc12-4f61-ad6c-f8db03b2ce4a",
   "metadata": {
    "tags": []
   },
   "source": [
    "#### Step 4: Test your function to get the correct output\n",
    "Call your functions in correct order. Entering weight of 78 and height of 175 should return **Overweight**."
   ]
  },
  {
   "cell_type": "code",
   "execution_count": 35,
   "id": "8909f074-0808-452f-8f0d-9d033950ccd6",
   "metadata": {},
   "outputs": [
    {
     "data": {
      "text/plain": [
       "'Overweight'"
      ]
     },
     "execution_count": 35,
     "metadata": {},
     "output_type": "execute_result"
    }
   ],
   "source": [
    "# Write your code\n",
    "bmi_stat(roundup(bmi(78, 175)))"
   ]
  },
  {
   "cell_type": "markdown",
   "id": "037805ac-26f5-4d32-811e-2514f23474fe",
   "metadata": {},
   "source": [
    "#### Step 5: Make a Decorator function on `Step 2`\n",
    "Example: \n",
    "```\n",
    "def squared_dec(f):\n",
    "  def wrapper(*args, **kwargs):\n",
    "    rv = f(*args, **kwargs)\n",
    "    return rv ** 2\n",
    "  return wrapper\n",
    "```"
   ]
  },
  {
   "cell_type": "code",
   "execution_count": 36,
   "id": "a6c87efb-fb56-42f9-9ea5-79b35957b2cd",
   "metadata": {},
   "outputs": [],
   "source": [
    "# Write your code\n",
    "def roundup(f):\n",
    "  def wrapper(*args, **kwargs):\n",
    "    rv = f(*args, **kwargs)\n",
    "    return rv * 10000\n",
    "  return wrapper"
   ]
  },
  {
   "cell_type": "markdown",
   "id": "a2a669dc-554e-4529-bbf8-e19ffcc634a0",
   "metadata": {
    "tags": []
   },
   "source": [
    "#### Step 6: Make a Decorator function on `Step 3`\n",
    "Example: \n",
    "```\n",
    "def squared_dec(f):\n",
    "  def wrapper(*args, **kwargs):\n",
    "    rv = f(*args, **kwargs)\n",
    "    return rv ** 2\n",
    "  return wrapper\n",
    "```"
   ]
  },
  {
   "cell_type": "code",
   "execution_count": 37,
   "id": "09ff2793-7ac2-4302-8c16-46ce532646c4",
   "metadata": {},
   "outputs": [],
   "source": [
    "# Write your code\n",
    "def bmi_stat(f):\n",
    "  def wrapper(*args, **kwargs):\n",
    "    rv = f(*args, **kwargs)\n",
    "    if rv <= 18.4:\n",
    "      return \"Underweight\"\n",
    "    elif rv > 18.5 and rv < 24.9:\n",
    "      return \"Normal\"\n",
    "    elif rv > 25 and rv < 39.9:\n",
    "      return \"Overweight\"\n",
    "    elif rv >= 40:\n",
    "      return \"Obese\"\n",
    "  return wrapper"
   ]
  },
  {
   "cell_type": "markdown",
   "id": "d6dcf4f4-8214-48f4-ac98-b2a06ceed7f9",
   "metadata": {
    "tags": []
   },
   "source": [
    "#### Step 7: Decorate `Step 1's` function with `Step 2`\n",
    "Example: \n",
    "```\n",
    "@myfunction\n",
    "def test():\n",
    "  return\n",
    "```"
   ]
  },
  {
   "cell_type": "code",
   "execution_count": 38,
   "id": "dc34e321-e80c-4507-9e46-1bcaec4c8175",
   "metadata": {},
   "outputs": [
    {
     "data": {
      "text/plain": [
       "26.98961937716263"
      ]
     },
     "execution_count": 38,
     "metadata": {},
     "output_type": "execute_result"
    }
   ],
   "source": [
    "# Write your code\n",
    "@roundup\n",
    "def bmi(weight, height):\n",
    "  return weight / (height ** 2)\n",
    "bmi(78, 170)"
   ]
  },
  {
   "cell_type": "markdown",
   "id": "aa02b94b-2027-4d0a-8bfd-ffcf6fe728df",
   "metadata": {
    "tags": []
   },
   "source": [
    "#### Step 8: Decorate `Step 1's` function with `Step 2` and `Step 3` functions in correct order\n",
    "Example: \n",
    "```\n",
    "@mytest\n",
    "@myfunction\n",
    "def test():\n",
    "  return\n",
    "```"
   ]
  },
  {
   "cell_type": "code",
   "execution_count": 39,
   "id": "fff304de-3cb1-4a5e-9c01-18cc2b60707d",
   "metadata": {},
   "outputs": [],
   "source": [
    "# Write your code\n",
    "@bmi_stat\n",
    "@roundup\n",
    "def bmi(weight, height):\n",
    "  return weight / (height ** 2)"
   ]
  },
  {
   "cell_type": "code",
   "execution_count": 40,
   "id": "61ea18bb-f708-4c6c-8a4f-4a42eda86244",
   "metadata": {},
   "outputs": [
    {
     "data": {
      "text/plain": [
       "'Overweight'"
      ]
     },
     "execution_count": 40,
     "metadata": {},
     "output_type": "execute_result"
    }
   ],
   "source": [
    "bmi(78, 175)"
   ]
  },
  {
   "cell_type": "code",
   "execution_count": null,
   "id": "6c8617c7-9f5d-41e1-aa9c-5029af290c70",
   "metadata": {},
   "outputs": [
    {
     "name": "stdin",
     "output_type": "stream",
     "text": [
      "Your weight in kg 78\n",
      "Your height in centimeters 175\n"
     ]
    },
    {
     "name": "stdout",
     "output_type": "stream",
     "text": [
      "You are Overweight\n"
     ]
    }
   ],
   "source": [
    "weight = input(\"Your weight in kg\")\n",
    "height = input(\"Your height in centimeters\")\n",
    "print(\"You are\", bmi(int(weight), int(height)))"
   ]
  },
  {
   "cell_type": "code",
   "execution_count": 282,
   "id": "a1ac4fda-714e-4e5a-b1f6-79e78b81bce6",
   "metadata": {},
   "outputs": [],
   "source": [
    "import numpy as np"
   ]
  },
  {
   "cell_type": "code",
   "execution_count": 283,
   "id": "6c146666-c317-43cf-b6c4-5e45e550c752",
   "metadata": {},
   "outputs": [],
   "source": [
    "statme = np.random.randint(1, 10, 200)"
   ]
  },
  {
   "cell_type": "code",
   "execution_count": 285,
   "id": "7d5166a1-1fce-45c0-b0aa-24fb87b89e27",
   "metadata": {},
   "outputs": [],
   "source": [
    "import pandas as pd"
   ]
  },
  {
   "cell_type": "code",
   "execution_count": 307,
   "id": "fcfde187-d949-4188-8efe-99fd10e04570",
   "metadata": {},
   "outputs": [],
   "source": [
    "def dada():\n",
    "  df = pd.DataFrame(data=statme, columns=[\"data\"])\n",
    "  ax = df.plot.hist(bins=12, alpha=0.5)\n",
    "  mindata = df['data'].min()\n",
    "  maxdata = df['data'].max()\n",
    "  totaldata = df['data'].sum()\n",
    "  return mindata, maxdata, totaldata, ax"
   ]
  },
  {
   "cell_type": "code",
   "execution_count": 308,
   "id": "7b9ea1c3-ceb8-44e6-ad1a-fb8234de1cec",
   "metadata": {},
   "outputs": [
    {
     "data": {
      "text/plain": [
       "(1, 9, 991, <AxesSubplot:ylabel='Frequency'>)"
      ]
     },
     "execution_count": 308,
     "metadata": {},
     "output_type": "execute_result"
    },
    {
     "data": {
      "image/png": "[encoded data removed]",
      "text/plain": [
       "<Figure size 640x480 with 1 Axes>"
      ]
     },
     "metadata": {},
     "output_type": "display_data"
    }
   ],
   "source": [
    "dada()"
   ]
  }
 ],
 "metadata": {
  "kernelspec": {
   "display_name": "Python 3 (ipykernel)",
   "language": "python",
   "name": "python3"
  },
  "language_info": {
   "codemirror_mode": {
    "name": "ipython",
    "version": 3
   },
   "file_extension": ".py",
   "mimetype": "text/x-python",
   "name": "python",
   "nbconvert_exporter": "python",
   "pygments_lexer": "ipython3",
   "version": "3.8.13"
  }
 },
 "nbformat": 4,
 "nbformat_minor": 5
}
