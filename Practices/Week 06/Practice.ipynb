{
 "cells": [
  {
   "cell_type": "markdown",
   "id": "3d7a1c77-0fec-400f-9507-e2f10d08abc5",
   "metadata": {
    "tags": []
   },
   "source": [
    "# Scraping `zangia.mn`\n",
    "* You need to import `pandas`, `requests` and `BeautifulSoup`"
   ]
  },
  {
   "cell_type": "code",
   "execution_count": 1,
   "id": "a2882d7b-3416-474c-a99d-0d445c1c58f8",
   "metadata": {},
   "outputs": [],
   "source": [
    "import pandas as pd\n",
    "import requests\n",
    "from bs4 import BeautifulSoup"
   ]
  },
  {
   "cell_type": "markdown",
   "id": "0fca01f5-7995-46b3-8849-953231d6dec1",
   "metadata": {
    "tags": []
   },
   "source": [
    "### Exercise 1: Scrape `zangia.mn` page#1\n",
    "* Make a dataframe using `Мэдээлэл технологи, Харилцаа холбоо` category `https://www.zangia.mn/job/list/pg.1/b.4`.\n",
    "* Get job listings from page 1.\n",
    "  * DataFrame should include columns: `job_title`, `salary`. \n",
    "  * Remove the row if `salary` text contains `Тохиролцоно`. \n",
    "    * *Hint*: Loop over the df and use `in` and `drop` methods.\n",
    "  * Take salary as 5000000 if `salary` text contains `5,000,000 -ааc дээш`\n",
    "  * Import statistics library\n",
    "  * Get the median salary using statistics library if there is a salary range. Example: 2,500,000-3,500,000 should be 3000000. \n",
    "    * Use string replace method to remove comma from numbers.\n",
    "    * *Hint*: Use string split method to get the numbers. \n",
    "  * Make a histogram plot using the `salary`.  \n"
   ]
  },
  {
   "cell_type": "code",
   "execution_count": 2,
   "id": "aa899bcc-d456-44af-b385-96aa18fbcaaa",
   "metadata": {},
   "outputs": [],
   "source": [
    "# Your code\n",
    "response = requests.get(\"https://www.zangia.mn/job/list/pg.1/b.4\")\n",
    "soup = BeautifulSoup(response.content)"
   ]
  },
  {
   "cell_type": "code",
   "execution_count": 3,
   "id": "2f99f6da-b8cb-41b0-88e2-c40eebb040aa",
   "metadata": {},
   "outputs": [],
   "source": [
    "wrapper = soup.find(\"div\", {\"class\":\"list\"})"
   ]
  },
  {
   "cell_type": "code",
   "execution_count": 4,
   "id": "0edaa8bd-01c1-4da5-a073-90e868ab455f",
   "metadata": {},
   "outputs": [],
   "source": [
    "ads = wrapper.find_all(\"div\", {\"class\":\"ad\"})"
   ]
  },
  {
   "cell_type": "code",
   "execution_count": 8,
   "id": "fc9329de-32b4-4467-ae0c-639b00d945c3",
   "metadata": {},
   "outputs": [
    {
     "data": {
      "text/plain": [
       "'ЖАВА ПРОГРАММИСТ (Senior developer)'"
      ]
     },
     "execution_count": 8,
     "metadata": {},
     "output_type": "execute_result"
    }
   ],
   "source": [
    "ads[0].b.text"
   ]
  },
  {
   "cell_type": "code",
   "execution_count": 11,
   "id": "dd97b263-e968-48d8-a1e4-585edca08507",
   "metadata": {},
   "outputs": [
    {
     "data": {
      "text/plain": [
       "'3,000,000 - 4,000,000 Тохиролцоно'"
      ]
     },
     "execution_count": 11,
     "metadata": {},
     "output_type": "execute_result"
    }
   ],
   "source": [
    "ads[0].span.text"
   ]
  },
  {
   "cell_type": "code",
   "execution_count": 12,
   "id": "1538e8d7-b7a4-4713-b109-03bb0347cf41",
   "metadata": {},
   "outputs": [],
   "source": [
    "data = []\n",
    "for ad in ads:\n",
    "  title = ad.b.text\n",
    "  salary = ad.span.text\n",
    "  data += [{\"title\": title, \"salary\":salary}]"
   ]
  },
  {
   "cell_type": "code",
   "execution_count": 21,
   "id": "ddf67445-1c8b-445b-b23a-80b64d2eaf7a",
   "metadata": {},
   "outputs": [],
   "source": [
    "df = pd.DataFrame(data)"
   ]
  },
  {
   "cell_type": "code",
   "execution_count": 22,
   "id": "ca034895-5c25-401c-9fb6-9e6a6aca32b3",
   "metadata": {
    "tags": []
   },
   "outputs": [],
   "source": [
    "import statistics\n",
    "for i in range(len(df)):\n",
    "  if \"Тохиролцоно\" in df['salary'][i]:\n",
    "    df = df.drop(i)\n",
    "  elif \"5,000,000 -ааc дээш\" in df['salary'][i]:\n",
    "    df['salary'][i] = 5000000\n",
    "  else:\n",
    "    min_salary = int(df['salary'][i].replace(\",\",\"\").split(\"-\")[0])\n",
    "    max_salary = int(df['salary'][i].replace(\",\",\"\").split(\"-\")[1])\n",
    "    median_salary = statistics.median([min_salary, max_salary])\n",
    "    df['salary'][i] = median_salary"
   ]
  },
  {
   "cell_type": "code",
   "execution_count": 24,
   "id": "e27b36b8-7d7d-429e-aba5-86fdb4dec2b8",
   "metadata": {},
   "outputs": [
    {
     "data": {
      "text/plain": [
       "<AxesSubplot:ylabel='Frequency'>"
      ]
     },
     "execution_count": 24,
     "metadata": {},
     "output_type": "execute_result"
    },
    {
     "data": {
      "image/png": "[encoded data removed]",
      "text/plain": [
       "<Figure size 640x480 with 1 Axes>"
      ]
     },
     "metadata": {},
     "output_type": "display_data"
    }
   ],
   "source": [
    "df['salary'].plot.hist()"
   ]
  },
  {
   "cell_type": "markdown",
   "id": "24e14f14-987b-4c11-9bfb-35c79e4a7215",
   "metadata": {},
   "source": [
    "### Exercise 2: Scrape `zangia.mn` Page#1 - Page#10\n",
    "* Make a dataframe using `Мэдээлэл технологи, Харилцаа холбоо` category `https://www.zangia.mn/job/list/pg.1/b.4`.\n",
    "* Get job listings from page 1-10. *Hint* Loop over the list of pages\n",
    "* Make a dataframe and make a histogram plot using `salary` column."
   ]
  },
  {
   "cell_type": "code",
   "execution_count": 27,
   "id": "1b6ff87d-f1c8-456f-97f8-06a2fafacd0d",
   "metadata": {},
   "outputs": [],
   "source": [
    "# Your code\n",
    "data = []\n",
    "for i in range(1, 10):\n",
    "  url = f\"https://www.zangia.mn/job/list/pg.{i}/b.4\"\n",
    "  response = requests.get(url)\n",
    "  soup = BeautifulSoup(response.content)\n",
    "  \n",
    "  wrapper = soup.find(\"div\", {\"class\":\"list\"})\n",
    "  ads = wrapper.find_all(\"div\", {\"class\":\"ad\"})\n",
    "  \n",
    "  for ad in ads:\n",
    "    title = ad.b.text\n",
    "    salary = ad.span.text\n",
    "    data += [{\"title\": title, \"salary\":salary}]\n",
    "    \n",
    "df = pd.DataFrame(data)"
   ]
  },
  {
   "cell_type": "code",
   "execution_count": 28,
   "id": "ef3ea35b-786a-472c-8fec-5f9410e30bb1",
   "metadata": {
    "collapsed": true,
    "jupyter": {
     "outputs_hidden": true
    },
    "tags": []
   },
   "outputs": [
    {
     "data": {
      "text/html": [
       "<div>\n",
       "<style scoped>\n",
       "    .dataframe tbody tr th:only-of-type {\n",
       "        vertical-align: middle;\n",
       "    }\n",
       "\n",
       "    .dataframe tbody tr th {\n",
       "        vertical-align: top;\n",
       "    }\n",
       "\n",
       "    .dataframe thead th {\n",
       "        text-align: right;\n",
       "    }\n",
       "</style>\n",
       "<table border=\"1\" class=\"dataframe\">\n",
       "  <thead>\n",
       "    <tr style=\"text-align: right;\">\n",
       "      <th></th>\n",
       "      <th>title</th>\n",
       "      <th>salary</th>\n",
       "    </tr>\n",
       "  </thead>\n",
       "  <tbody>\n",
       "    <tr>\n",
       "      <th>0</th>\n",
       "      <td>ЖАВА ( ВЕБ ) ПРОГРАММИСТ</td>\n",
       "      <td>1,800,000 - 2,100,000</td>\n",
       "    </tr>\n",
       "    <tr>\n",
       "      <th>1</th>\n",
       "      <td>ЖАВА ПРОГРАММИСТ (Senior developer)</td>\n",
       "      <td>3,000,000 - 4,000,000 Тохиролцоно</td>\n",
       "    </tr>\n",
       "    <tr>\n",
       "      <th>2</th>\n",
       "      <td>Программист( C++)</td>\n",
       "      <td>4,000,000 - 5,000,000</td>\n",
       "    </tr>\n",
       "    <tr>\n",
       "      <th>3</th>\n",
       "      <td>Software Quality Assurance Engineer</td>\n",
       "      <td>1,500,000 - 1,800,000 Тохиролцоно</td>\n",
       "    </tr>\n",
       "    <tr>\n",
       "      <th>4</th>\n",
       "      <td>МЭДЭЭЛЭЛ ТЕХНОЛОГИЙН ИНЖЕНЕР</td>\n",
       "      <td>1,200,000 - 1,500,000</td>\n",
       "    </tr>\n",
       "    <tr>\n",
       "      <th>...</th>\n",
       "      <td>...</td>\n",
       "      <td>...</td>\n",
       "    </tr>\n",
       "    <tr>\n",
       "      <th>451</th>\n",
       "      <td>БОРЛУУЛАЛТ ҮЙЛЧИЛГЭЭНИЙ АЖИЛТАН /СЭЛЭНГЭ САЛБАР/</td>\n",
       "      <td>600,000 - 800,000</td>\n",
       "    </tr>\n",
       "    <tr>\n",
       "      <th>452</th>\n",
       "      <td>ПРОГРАМ ЗОХИОГЧ</td>\n",
       "      <td>1,200,000 - 1,500,000</td>\n",
       "    </tr>\n",
       "    <tr>\n",
       "      <th>453</th>\n",
       "      <td>Оператор</td>\n",
       "      <td>800,000 - 1,000,000</td>\n",
       "    </tr>\n",
       "    <tr>\n",
       "      <th>454</th>\n",
       "      <td>Автоматжуулалтын инженер</td>\n",
       "      <td>2,100,000 - 2,500,000</td>\n",
       "    </tr>\n",
       "    <tr>\n",
       "      <th>455</th>\n",
       "      <td>Үл хөдлөх хөрөнгийн зууч /дуудлагын оператор/</td>\n",
       "      <td>1,200,000 - 1,500,000</td>\n",
       "    </tr>\n",
       "  </tbody>\n",
       "</table>\n",
       "<p>456 rows × 2 columns</p>\n",
       "</div>"
      ],
      "text/plain": [
       "                                                title  \\\n",
       "0                            ЖАВА ( ВЕБ ) ПРОГРАММИСТ   \n",
       "1                 ЖАВА ПРОГРАММИСТ (Senior developer)   \n",
       "2                                   Программист( C++)   \n",
       "3                 Software Quality Assurance Engineer   \n",
       "4                        МЭДЭЭЛЭЛ ТЕХНОЛОГИЙН ИНЖЕНЕР   \n",
       "..                                                ...   \n",
       "451  БОРЛУУЛАЛТ ҮЙЛЧИЛГЭЭНИЙ АЖИЛТАН /СЭЛЭНГЭ САЛБАР/   \n",
       "452                                   ПРОГРАМ ЗОХИОГЧ   \n",
       "453                                          Оператор   \n",
       "454                          Автоматжуулалтын инженер   \n",
       "455     Үл хөдлөх хөрөнгийн зууч /дуудлагын оператор/   \n",
       "\n",
       "                                salary  \n",
       "0                1,800,000 - 2,100,000  \n",
       "1    3,000,000 - 4,000,000 Тохиролцоно  \n",
       "2                4,000,000 - 5,000,000  \n",
       "3    1,500,000 - 1,800,000 Тохиролцоно  \n",
       "4                1,200,000 - 1,500,000  \n",
       "..                                 ...  \n",
       "451                  600,000 - 800,000  \n",
       "452              1,200,000 - 1,500,000  \n",
       "453                800,000 - 1,000,000  \n",
       "454              2,100,000 - 2,500,000  \n",
       "455              1,200,000 - 1,500,000  \n",
       "\n",
       "[456 rows x 2 columns]"
      ]
     },
     "execution_count": 28,
     "metadata": {},
     "output_type": "execute_result"
    }
   ],
   "source": [
    "df"
   ]
  },
  {
   "cell_type": "code",
   "execution_count": 29,
   "id": "7880b038-fb18-4ec0-80bb-859348e2b3f3",
   "metadata": {},
   "outputs": [],
   "source": [
    "for i in range(len(df)):\n",
    "  if \"Тохиролцоно\" in df['salary'][i]:\n",
    "    df = df.drop(i)\n",
    "  elif \"5,000,000 -ааc дээш\" in df['salary'][i]:\n",
    "    df['salary'][i] = 5000000\n",
    "  else:\n",
    "    min_salary = int(df['salary'][i].replace(\",\",\"\").split(\"-\")[0])\n",
    "    max_salary = int(df['salary'][i].replace(\",\",\"\").split(\"-\")[1])\n",
    "    median_salary = statistics.median([min_salary, max_salary])\n",
    "    df['salary'][i] = median_salary"
   ]
  },
  {
   "cell_type": "code",
   "execution_count": 31,
   "id": "ba314564-e71b-4d7f-8ea3-66afa604d504",
   "metadata": {},
   "outputs": [
    {
     "data": {
      "text/plain": [
       "<AxesSubplot:ylabel='Frequency'>"
      ]
     },
     "execution_count": 31,
     "metadata": {},
     "output_type": "execute_result"
    },
    {
     "data": {
      "image/png": "[encoded data removed]",
      "text/plain": [
       "<Figure size 640x480 with 1 Axes>"
      ]
     },
     "metadata": {},
     "output_type": "display_data"
    }
   ],
   "source": [
    "df['salary'].plot.hist()"
   ]
  },
  {
   "cell_type": "markdown",
   "id": "928cbf46-a110-43f1-847a-788846efe1f8",
   "metadata": {},
   "source": [
    "### Exercise 3: Scrape `zangia.mn` Page#1 - Page#7\n",
    "* Make a dataframe using `Захиргаа, Хүний нөөц` category `https://www.zangia.mn/job/list/pg.1/b.36`.\n",
    "* Get job listings from page 1-7.\n",
    "* Make a dataframe and make a histogram plot using `salary` column.\n",
    "\n",
    "**WARNING** MAKE SURE YOUR LINKS ARE CORRECT!"
   ]
  },
  {
   "cell_type": "code",
   "execution_count": 35,
   "id": "d8f744d3-5e8c-4bbd-900e-e7b31502eadf",
   "metadata": {},
   "outputs": [],
   "source": [
    "# Your code\n",
    "data = []\n",
    "for i in range(1, 9):\n",
    "  url = f\"https://www.zangia.mn/job/list/pg.{i}/b.36\"\n",
    "  response = requests.get(url)\n",
    "  soup = BeautifulSoup(response.content)\n",
    "  \n",
    "  wrapper = soup.find(\"div\", {\"class\":\"list\"})\n",
    "  ads = wrapper.find_all(\"div\", {\"class\":\"ad\"})\n",
    "  \n",
    "  for ad in ads:\n",
    "    title = ad.b.text\n",
    "    salary = ad.span.text\n",
    "    data += [{\"title\": title, \"salary\":salary}]\n",
    "    \n",
    "df = pd.DataFrame(data)"
   ]
  },
  {
   "cell_type": "code",
   "execution_count": 37,
   "id": "fb75c086-02d3-4169-a14f-3623302621d5",
   "metadata": {},
   "outputs": [],
   "source": [
    "for i in range(len(df)):\n",
    "  if \"Тохиролцоно\" in df['salary'][i]:\n",
    "    df = df.drop(i)\n",
    "  elif \"5,000,000 -ааc дээш\" in df['salary'][i]:\n",
    "    df['salary'][i] = 5000000\n",
    "  else:\n",
    "    min_salary = int(df['salary'][i].replace(\",\",\"\").split(\"-\")[0])\n",
    "    max_salary = int(df['salary'][i].replace(\",\",\"\").split(\"-\")[1])\n",
    "    median_salary = statistics.median([min_salary, max_salary])\n",
    "    df['salary'][i] = median_salary"
   ]
  },
  {
   "cell_type": "code",
   "execution_count": 38,
   "id": "317b0dc1-5229-40ae-ad10-a046afa55606",
   "metadata": {},
   "outputs": [
    {
     "data": {
      "text/plain": [
       "<AxesSubplot:ylabel='Frequency'>"
      ]
     },
     "execution_count": 38,
     "metadata": {},
     "output_type": "execute_result"
    },
    {
     "data": {
      "image/png": "[encoded data removed]",
      "text/plain": [
       "<Figure size 640x480 with 1 Axes>"
      ]
     },
     "metadata": {},
     "output_type": "display_data"
    }
   ],
   "source": [
    "df['salary'].plot.hist()"
   ]
  },
  {
   "cell_type": "code",
   "execution_count": 39,
   "id": "0f7b06d6-29ca-4e4a-9e81-81896bc0aa34",
   "metadata": {},
   "outputs": [
    {
     "data": {
      "text/html": [
       "<div>\n",
       "<style scoped>\n",
       "    .dataframe tbody tr th:only-of-type {\n",
       "        vertical-align: middle;\n",
       "    }\n",
       "\n",
       "    .dataframe tbody tr th {\n",
       "        vertical-align: top;\n",
       "    }\n",
       "\n",
       "    .dataframe thead th {\n",
       "        text-align: right;\n",
       "    }\n",
       "</style>\n",
       "<table border=\"1\" class=\"dataframe\">\n",
       "  <thead>\n",
       "    <tr style=\"text-align: right;\">\n",
       "      <th></th>\n",
       "      <th>title</th>\n",
       "      <th>salary</th>\n",
       "    </tr>\n",
       "  </thead>\n",
       "  <tbody>\n",
       "    <tr>\n",
       "      <th>0</th>\n",
       "      <td>Үр дүн, бүтээмжийг эрхэмлэдэгХҮНИЙ НӨӨЦИЙН МЕН...</td>\n",
       "      <td>1650000.0</td>\n",
       "    </tr>\n",
       "    <tr>\n",
       "      <th>1</th>\n",
       "      <td>ЗАХИРЛЫН ЖОЛООЧ</td>\n",
       "      <td>1350000.0</td>\n",
       "    </tr>\n",
       "    <tr>\n",
       "      <th>2</th>\n",
       "      <td>Хүний нөөц, оффис мэргэжилтэн (Ресепшн)</td>\n",
       "      <td>1100000.0</td>\n",
       "    </tr>\n",
       "    <tr>\n",
       "      <th>4</th>\n",
       "      <td>Захиргааны ажилтан</td>\n",
       "      <td>1350000.0</td>\n",
       "    </tr>\n",
       "    <tr>\n",
       "      <th>5</th>\n",
       "      <td>Хүний нөөцийн менежер</td>\n",
       "      <td>1950000.0</td>\n",
       "    </tr>\n",
       "    <tr>\n",
       "      <th>...</th>\n",
       "      <td>...</td>\n",
       "      <td>...</td>\n",
       "    </tr>\n",
       "    <tr>\n",
       "      <th>348</th>\n",
       "      <td>Үл хөдлөх хөрөнгийн зууч /REAL ESTATE AGENT/</td>\n",
       "      <td>2750000.0</td>\n",
       "    </tr>\n",
       "    <tr>\n",
       "      <th>349</th>\n",
       "      <td>Үл хөдлөх хөрөнгийн зууч /REAL ESTATE AGENT/</td>\n",
       "      <td>2750000.0</td>\n",
       "    </tr>\n",
       "    <tr>\n",
       "      <th>351</th>\n",
       "      <td>ХҮНИЙ НӨӨЦИЙН МЭРГЭЖИЛТЭН</td>\n",
       "      <td>1350000.0</td>\n",
       "    </tr>\n",
       "    <tr>\n",
       "      <th>352</th>\n",
       "      <td>Аж ахуйн менежер ажилд авна.</td>\n",
       "      <td>1950000.0</td>\n",
       "    </tr>\n",
       "    <tr>\n",
       "      <th>353</th>\n",
       "      <td>Жолооч /Үйлдвэрт/</td>\n",
       "      <td>1100000.0</td>\n",
       "    </tr>\n",
       "  </tbody>\n",
       "</table>\n",
       "<p>295 rows × 2 columns</p>\n",
       "</div>"
      ],
      "text/plain": [
       "                                                 title     salary\n",
       "0    Үр дүн, бүтээмжийг эрхэмлэдэгХҮНИЙ НӨӨЦИЙН МЕН...  1650000.0\n",
       "1                                      ЗАХИРЛЫН ЖОЛООЧ  1350000.0\n",
       "2              Хүний нөөц, оффис мэргэжилтэн (Ресепшн)  1100000.0\n",
       "4                                   Захиргааны ажилтан  1350000.0\n",
       "5                                Хүний нөөцийн менежер  1950000.0\n",
       "..                                                 ...        ...\n",
       "348       Үл хөдлөх хөрөнгийн зууч /REAL ESTATE AGENT/  2750000.0\n",
       "349       Үл хөдлөх хөрөнгийн зууч /REAL ESTATE AGENT/  2750000.0\n",
       "351                          ХҮНИЙ НӨӨЦИЙН МЭРГЭЖИЛТЭН  1350000.0\n",
       "352                       Аж ахуйн менежер ажилд авна.  1950000.0\n",
       "353                                  Жолооч /Үйлдвэрт/  1100000.0\n",
       "\n",
       "[295 rows x 2 columns]"
      ]
     },
     "execution_count": 39,
     "metadata": {},
     "output_type": "execute_result"
    }
   ],
   "source": [
    "df"
   ]
  },
  {
   "cell_type": "code",
   "execution_count": null,
   "id": "1f3144b5-d129-439f-bb7a-78d10aedd8fa",
   "metadata": {},
   "outputs": [],
   "source": []
  }
 ],
 "metadata": {
  "kernelspec": {
   "display_name": "Python 3 (ipykernel)",
   "language": "python",
   "name": "python3"
  },
  "language_info": {
   "codemirror_mode": {
    "name": "ipython",
    "version": 3
   },
   "file_extension": ".py",
   "mimetype": "text/x-python",
   "name": "python",
   "nbconvert_exporter": "python",
   "pygments_lexer": "ipython3",
   "version": "3.8.13"
  }
 },
 "nbformat": 4,
 "nbformat_minor": 5
}
