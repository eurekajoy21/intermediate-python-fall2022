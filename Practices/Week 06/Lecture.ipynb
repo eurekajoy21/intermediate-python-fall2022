{
 "cells": [
  {
   "cell_type": "markdown",
   "id": "633e2263-2901-4c17-990c-58810e6ba26c",
   "metadata": {},
   "source": [
    "### Exercise: Scrape `unegui.mn`\n",
    "* Scrape apartment listings from `https://www.unegui.mn/l-hdlh/l-hdlh-zarna/oron-suuts-zarna/`\n",
    "* Use only the first page\n",
    "  * Get the `listing title` and `listing price`\n",
    "  * Make a dataframe and make a histogram using `listing price`"
   ]
  },
  {
   "cell_type": "code",
   "execution_count": 1,
   "id": "876fb132-19cd-4192-b3e1-304bf62aa675",
   "metadata": {},
   "outputs": [],
   "source": [
    "import pandas as pd\n",
    "pd.set_option('display.float_format', '{:.2f}'.format)\n",
    "import requests\n",
    "from bs4 import BeautifulSoup"
   ]
  },
  {
   "cell_type": "code",
   "execution_count": 2,
   "id": "9b7799b7-cdd6-4bd7-a476-46e7bfcf5b37",
   "metadata": {},
   "outputs": [],
   "source": [
    "# Your code here\n",
    "response = requests.get(\"https://www.unegui.mn/l-hdlh/l-hdlh-zarna/oron-suuts-zarna/\")"
   ]
  },
  {
   "cell_type": "code",
   "execution_count": 5,
   "id": "3a4701f9-df66-45fa-8793-80be712decec",
   "metadata": {},
   "outputs": [],
   "source": [
    "soup = BeautifulSoup(response.content)"
   ]
  },
  {
   "cell_type": "code",
   "execution_count": 9,
   "id": "fffe1a4f-d5e7-4b68-b919-7039e97f65ea",
   "metadata": {},
   "outputs": [],
   "source": [
    "list_titles = soup.find_all(\"a\", {\"class\":\"announcement-block__title\"})"
   ]
  },
  {
   "cell_type": "code",
   "execution_count": 15,
   "id": "6b5b7027-9daa-4f2d-980b-507b43c9b320",
   "metadata": {},
   "outputs": [
    {
     "data": {
      "text/plain": [
       "'Содон хорооллын баруун урд 56.85мкв 2 өрөө байр'"
      ]
     },
     "execution_count": 15,
     "metadata": {},
     "output_type": "execute_result"
    }
   ],
   "source": [
    "list_titles[0]['content']"
   ]
  },
  {
   "cell_type": "code",
   "execution_count": 18,
   "id": "adcfe531-35ce-4adb-aa64-4d25c614a91e",
   "metadata": {},
   "outputs": [],
   "source": [
    "all_listings = soup.find_all(\"div\", {\"class\": \"announcement-block__price _verified\"})"
   ]
  },
  {
   "cell_type": "code",
   "execution_count": 19,
   "id": "8bcb618f-a26a-480f-806d-4fbc6e7cd28f",
   "metadata": {},
   "outputs": [
    {
     "data": {
      "text/plain": [
       "<div class=\"announcement-block__price _verified\" itemprop=\"offers\" itemscope=\"\" itemtype=\"http://schema.org/Offer\">\n",
       "<meta content=\"Цэнгэлдэхийн урд хурд рапид хороололд 1 өрөө байр\" itemprop=\"name\"/>\n",
       "<meta content=\"Улаанбаатар\" itemprop=\"areaServed\"/>\n",
       "<meta content=\"MNT\" itemprop=\"priceCurrency\"/>\n",
       "<meta content=\"120000000.00\" itemprop=\"price\"/>\n",
       "            120 сая <b>₮</b>\n",
       "</div>"
      ]
     },
     "execution_count": 19,
     "metadata": {},
     "output_type": "execute_result"
    }
   ],
   "source": [
    "all_listings[0]"
   ]
  },
  {
   "cell_type": "code",
   "execution_count": 21,
   "id": "96191476-468e-4f31-b706-da79872f3bdb",
   "metadata": {},
   "outputs": [
    {
     "data": {
      "text/plain": [
       "'Цэнгэлдэхийн урд хурд рапид хороололд 1 өрөө байр'"
      ]
     },
     "execution_count": 21,
     "metadata": {},
     "output_type": "execute_result"
    }
   ],
   "source": [
    "all_listings[0].find(\"meta\", {\"itemprop\":\"name\"})['content']"
   ]
  },
  {
   "cell_type": "code",
   "execution_count": 26,
   "id": "f4925ed5-7df5-4955-b85c-a0a81230206f",
   "metadata": {},
   "outputs": [
    {
     "data": {
      "text/plain": [
       "120000000"
      ]
     },
     "execution_count": 26,
     "metadata": {},
     "output_type": "execute_result"
    }
   ],
   "source": [
    "int(all_listings[0].find(\"meta\", {\"itemprop\":\"price\"})['content'].split(\".\")[0])"
   ]
  },
  {
   "cell_type": "code",
   "execution_count": 28,
   "id": "be7a67d4-440a-4eab-abd8-b16044ed9f25",
   "metadata": {},
   "outputs": [],
   "source": [
    "data = []\n",
    "for single_item in all_listings:\n",
    "  title = single_item.find(\"meta\", {\"itemprop\":\"name\"})['content']\n",
    "  price = int(single_item.find(\"meta\", {\"itemprop\":\"price\"})['content'].split(\".\")[0])\n",
    "  data += [{\"title\":title, \"price\":price}]"
   ]
  },
  {
   "cell_type": "code",
   "execution_count": 31,
   "id": "10fbd64a-fa5c-491a-aaa9-ee9f642e3e73",
   "metadata": {},
   "outputs": [],
   "source": [
    "df = pd.DataFrame(data)"
   ]
  },
  {
   "cell_type": "code",
   "execution_count": 32,
   "id": "98b569d7-8985-4c95-8b46-c6b6d02120ef",
   "metadata": {},
   "outputs": [
    {
     "data": {
      "text/plain": [
       "<AxesSubplot:ylabel='Frequency'>"
      ]
     },
     "execution_count": 32,
     "metadata": {},
     "output_type": "execute_result"
    },
    {
     "data": {
      "image/png": "[encoded data removed]",
      "text/plain": [
       "<Figure size 640x480 with 1 Axes>"
      ]
     },
     "metadata": {},
     "output_type": "display_data"
    }
   ],
   "source": [
    "df['price'].plot.hist()"
   ]
  },
  {
   "cell_type": "code",
   "execution_count": null,
   "id": "ceed59b1-5eb4-4ac8-8ce8-4b81a65da0aa",
   "metadata": {},
   "outputs": [],
   "source": []
  }
 ],
 "metadata": {
  "kernelspec": {
   "display_name": "Python 3 (ipykernel)",
   "language": "python",
   "name": "python3"
  },
  "language_info": {
   "codemirror_mode": {
    "name": "ipython",
    "version": 3
   },
   "file_extension": ".py",
   "mimetype": "text/x-python",
   "name": "python",
   "nbconvert_exporter": "python",
   "pygments_lexer": "ipython3",
   "version": "3.8.13"
  }
 },
 "nbformat": 4,
 "nbformat_minor": 5
}
