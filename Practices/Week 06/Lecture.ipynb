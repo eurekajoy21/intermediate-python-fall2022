{
 "cells": [
  {
   "cell_type": "markdown",
   "id": "633e2263-2901-4c17-990c-58810e6ba26c",
   "metadata": {},
   "source": [
    "### Exercise: Scrape `unegui.mn`\n",
    "* Scrape apartment listings from `https://www.unegui.mn/l-hdlh/l-hdlh-zarna/oron-suuts-zarna/`\n",
    "* Use only the first page\n",
    "  * Get the `listing title` and `listing price`\n",
    "  * Make a dataframe and make a histogram using `listing price`"
   ]
  },
  {
   "cell_type": "code",
   "execution_count": 41,
   "id": "876fb132-19cd-4192-b3e1-304bf62aa675",
   "metadata": {},
   "outputs": [],
   "source": [
    "import pandas as pd\n",
    "pd.set_option('display.float_format', '{:.2f}'.format)\n",
    "import requests\n",
    "from bs4 import BeautifulSoup"
   ]
  },
  {
   "cell_type": "code",
   "execution_count": null,
   "id": "9b7799b7-cdd6-4bd7-a476-46e7bfcf5b37",
   "metadata": {},
   "outputs": [],
   "source": [
    "# Your code here"
   ]
  }
 ],
 "metadata": {
  "kernelspec": {
   "display_name": "Python 3 (ipykernel)",
   "language": "python",
   "name": "python3"
  },
  "language_info": {
   "codemirror_mode": {
    "name": "ipython",
    "version": 3
   },
   "file_extension": ".py",
   "mimetype": "text/x-python",
   "name": "python",
   "nbconvert_exporter": "python",
   "pygments_lexer": "ipython3",
   "version": "3.8.13"
  }
 },
 "nbformat": 4,
 "nbformat_minor": 5
}
